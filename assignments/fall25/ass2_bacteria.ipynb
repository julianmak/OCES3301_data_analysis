{
 "cells": [
  {
   "cell_type": "markdown",
   "metadata": {},
   "source": [
    "*30 Aug 2025, Julian Mak (whatever with copyright, do what you want with this)\n",
    "\n",
    "### As part of material for OCES 3301 \"Data Analysis in Ocean Sciences\" delivered at HKUST\n",
    "\n",
    "For the latest version of the material, go to the public facing [GitHub](https://github.com/julianmak/academic-notes/tree/master/OCES3301_data_analysis_ocean) page.\n",
    "\n",
    "### General spiel about assessment\n",
    "\n",
    "***Your hand in should be in the form of a Jupyter notebook and associated files (if any), and no other form of hand-ins will be accepted***. The use of Jupyter notebook and its Python component is part of the assessment criteria for the *presentation* and *coding* portion. Hand these in through Canvas in the usual way. You are graded on the following attributes:\n",
    "\n",
    "1) **scientific content** (40%)\n",
    "\n",
    "2) **writing, presentation and referencing** (30%)\n",
    "\n",
    "3) **use of Jupyter and/or Python coding** (30%)\n",
    "\n",
    "4) **orginality** (10%; analysis beyond scope of course, use of memes and puns; surprise me)\n",
    "\n",
    "See the samples assignments I've made for the kind of things we might be expecting. We will probably be fairly loose with giving credit, but 60% or below would count as unsatisfactory (85% or above would be an A grade I would imagine).\n",
    "\n",
    "You are allowed to use other Python packages if you find them, but see point b) below.\n",
    "\n",
    "a) ***Late assignments get a penalty of 1% of full marks per minute*** (so don't bother handing in anything after 2 hours). We will still mark it and give feedback, but you just don't get the credit. Excuses could be entertained but you will need sufficient evidence to back this up (e.g. your internet went down in the area and you have some pictorial/written demosntration for this).\n",
    "\n",
    "b) ***Your code needs to be able to run from scratch at least in the standard Google Colab***, otherwise you will get no marks from the 3rd attribute, and probably next to nothing in the 1st attribute (because your graphs probably won't be generating). When you hand the notebooks in, you should pass it through `Kernel -> Restarts & Clear Output`, so the file is reasonably sized and only full of text (and if you don't *you get a 10% penalty* for not following instructions, for reasons in point c) below). The procedure here is that we will run the whole notebook from scratch probably on [Google Colab](https://colab.research.google.com), then mark the resulting outputs. **So make sure you test your code through Google Colab at least!** (or do your assignments on there, find whatever work flow that works for you).\n",
    "\n",
    "c) ***Plagiarism***: By all means consult each other and/or work together, but the files you hand in should be done and written up separately. For allowing checks in Turnitin, you should pass it through `Kernel -> Restarts & Clear Output` before you hand it in. **The default for anyone accused with plagiarism is ZERO on the assignment**, and depending on whether you decide to contest and the result of the appeal, possibly lead to an official note of plagiarism on your transcript (I will allow people to argue but one should be ready for the consequences). \n",
    "\n",
    "A few things count as plagiarism:\n",
    "\n",
    "**Copying between students, and the default is that ALL parties involved get zero for the assignment**, regardless of whether the side can demonstrate they were copied from (extra incentive to keep the writing separate).\n",
    "\n",
    "**Copying text without citation is plagiarism**. Use quotation marks and give reference if you are directly lifting text, but don't do this too often (and will result in text looking cluttered, and not getting full credit for the *presentation* aspect).\n",
    "\n",
    "**Code is a slightly more grey area**, but I will just say no one has ever really been punished for being cautious and generous with citations, but make sure you present it well (e.g. overburdening text with citations will make the presentation ugly, and will not get full credit for the *presentation* aspect say).\n",
    "\n",
    "I will just make the point that we don't tend to accuse plagiarism unless we have enough proof, and if we are doing it it probably means we think we have a sufficiently strong case that is probably not worth arguing against (because then penalty then gets increased)."
   ]
  },
  {
   "cell_type": "markdown",
   "metadata": {},
   "source": [
    "---------------------------\n",
    "# Assessment 2 (20% of total course grade)\n",
    "\n",
    "For this you need the file `PIDweekly_env_data.txt`, which contains some data supplied by [Charmaine Yung](https://www.charmaineyung.com/) from one of the papers she was on ([this one](https://www.nature.com/articles/ismej20174), have a quick read for some context). The [book by Jorge Sarmiento and Niki Gruber](https://lbdiscover.ust.hk/bib/991012846667203412) (online access available for HKUST members, and there are also copies available in the library) is probably also an excellent reference for the ocean biogeochemistry variables that will show up here.\n",
    "\n",
    "The pandas code below reads the data but with the following on-the-fly modifications:\n",
    "\n",
    "* converting the `YearDay` variable into a `seasons` variable (cf. Iris and Penguin data, forcing it to be categorical)\n",
    "\n",
    "* dropping some variables, namely \n",
    "  * `SampleID`, which is a tag for the collected sample\n",
    "  * `Projected_Daily_Insolation`, which is the solar heating (directly related to the seasons and the water temperature)\n",
    "  * `MLLW`, mean lower low water (?), the low of the tide maybe\n",
    "  \n",
    "The reason for dropping those variables are either because (1) it's not really relevant, (2) one is likely a strongly related proxy to another and is potentially a redundant variable, or (3) I don't know what it actually does (particularly applies to `MLLW`).\n",
    "\n",
    "For the assignment, throw some of the tools you've encountered thus far to the dataset. Have a look below for what the variables are in the dataset (again, I am deliberately not telling you what they are, so you have to look it up a bit), but ***take `Bacteria_abundance` as the principal variable that you want to try and predict***; you can be a bit slack with the units for this assignment.\n",
    "\n",
    "Minimally I am expecting to see some applications of the following:\n",
    "\n",
    "* correlations\n",
    "\n",
    "* regression models and its analysis\n",
    "\n",
    "* PCAs\n",
    "\n",
    "* hypothesis testing\n",
    "\n",
    "By all means focus more on the tools you prefer, although you should give some demonstration that you know how to use all of the above analysis tools in some form or another. You don't have to be completely exhaustive with the variables (with the exception perhaps for PCA), since there are like 10 variables in the dataset. You could for example choose to focus more on the physical variables such as temperature, salinity, and pH, or if you think the chemical things are more important then maybe oxygen, pH and dissolved inorganic carbon (DIC), or if you think the biology is more important then maybe chlorophyll, nitrates, phosphorus and silicates, or some combination thereof. There is quite a lot of freedom here.\n",
    "\n",
    "Things you should do here (and the intention behind the tasks):\n",
    "\n",
    "a) some background research into plausible mechanisms that can influence bacteria abundance, formulating plausible hypotheses [*be able to do some background research*]\n",
    "\n",
    "b) explore some variables and demonstrate understanding of the statistical tools, to explore the plausible hypotheses [*practise and demonstrate understanding of tools and Python code*]\n",
    "\n",
    "c) write some of these things up and describe them using the Markdown cells [*practise and demonstrate understanding of Jupyter notebooks*]\n",
    "\n",
    "d) any others that could fall under originality (memes welcome, references to Miffy even better, but scientific content should always come first)"
   ]
  },
  {
   "cell_type": "markdown",
   "metadata": {},
   "source": [
    "***You should name your notebook \"ass2_bacteria_STUDENTID.ipynb\" when you hand the notebook in through Canvas***. When you hand in the notebook, make sure to delete all the cells above and including this one. Failure to do so may result in anything up to a ***5% deduction***, and this is ***on top of whatever deductions we may have made above for code not working*** under the **use of Jupyter and/or Python coding** category.\n",
    "\n",
    "For this one, make sure the final version of the notebook you hand is loads the data via **remote** means. The data here is small so it shouldn't matter, assuming you have internet connection.\n",
    "\n",
    "---"
   ]
  },
  {
   "cell_type": "code",
   "execution_count": null,
   "metadata": {},
   "outputs": [],
   "source": [
    "# sample code to load the numerical models\n",
    "\n",
    "import numpy as np\n",
    "import matplotlib.pyplot as plt\n",
    "import pandas as pd"
   ]
  },
  {
   "cell_type": "code",
   "execution_count": null,
   "metadata": {},
   "outputs": [],
   "source": [
    "data_loc = \"https://raw.githubusercontent.com/julianmak/OCES3301_data_analysis/refs/heads/main/assignments/spring22/PIDweekly_env_data.txt\"\n",
    "\n",
    "df = pd.read_csv(data_loc, delim_whitespace=True)\n",
    "\n",
    "# semi-artificially define seasons\n",
    "# winter = DecJanFeb, spring = MarAprMay, summer = JunJulAug, autumn = SepOctNov\n",
    "\n",
    "Mar = 31+28+1\n",
    "Jun = Mar+31+30+31 # no +1 because Mar already has the +1\n",
    "Sep = Jun+30+31+31\n",
    "Nov = Sep+30+31+30\n",
    "\n",
    "# tagging the seasons in a slightly dumb way\n",
    "seasons = []\n",
    "for i in range(df[\"YearDay\"].size):\n",
    "    day = df[\"YearDay\"][i]\n",
    "    if ( day % 365 >= Mar ) & ( day % 365 <  Jun ):\n",
    "        seasons.append(\"spring\")\n",
    "    elif ( day % 365 >= Jun ) & ( day % 365 <  Sep ):\n",
    "        seasons.append(\"summer\")\n",
    "    elif ( day % 365 >= Sep ) & ( day % 365 <  Nov ):\n",
    "        seasons.append(\"autumn\")\n",
    "    else:\n",
    "        seasons.append(\"winter\")\n",
    "        \n",
    "df[\"seasons\"] = seasons\n",
    "df = df.drop(labels=[\"YearDay\", \"SampleID\", \"Projected_Daily_Insolation\", \"MLLW\"], axis=1)\n",
    "df.sample(10)"
   ]
  },
  {
   "cell_type": "code",
   "execution_count": null,
   "metadata": {},
   "outputs": [],
   "source": [
    "# sample code: scatter plots and labelling by seasons\n",
    "\n",
    "fig = plt.figure(figsize=(5, 5))\n",
    "ax = plt.axes()\n",
    "for name in [\"spring\", \"summer\", \"autumn\", \"winter\"]:\n",
    "    ax.scatter(df.loc[df[\"seasons\"] == name][\"Bacteria_abundance\"], \n",
    "               df.loc[df[\"seasons\"] == name][\"Temp\"], \n",
    "               label = name, zorder=2)  # force data to be between grid lines via larger zorder\n",
    "ax.set_xlabel(f\"bacteria abundance\")\n",
    "ax.set_ylabel(f\"temperature\")\n",
    "ax.legend()\n",
    "ax.grid(lw=0.5, zorder=0)               # force grid lines to be behind all data, and with thin linewidth"
   ]
  },
  {
   "cell_type": "code",
   "execution_count": null,
   "metadata": {},
   "outputs": [],
   "source": []
  }
 ],
 "metadata": {
  "kernelspec": {
   "display_name": "Python 3 (ipykernel)",
   "language": "python",
   "name": "python3"
  },
  "language_info": {
   "codemirror_mode": {
    "name": "ipython",
    "version": 3
   },
   "file_extension": ".py",
   "mimetype": "text/x-python",
   "name": "python",
   "nbconvert_exporter": "python",
   "pygments_lexer": "ipython3",
   "version": "3.11.11"
  },
  "latex_envs": {
   "LaTeX_envs_menu_present": true,
   "autoclose": false,
   "autocomplete": true,
   "bibliofile": "biblio.bib",
   "cite_by": "apalike",
   "current_citInitial": 1,
   "eqLabelWithNumbers": true,
   "eqNumInitial": 1,
   "hotkeys": {
    "equation": "Ctrl-E",
    "itemize": "Ctrl-I"
   },
   "labels_anchors": false,
   "latex_user_defs": false,
   "report_style_numbering": false,
   "user_envs_cfg": false
  }
 },
 "nbformat": 4,
 "nbformat_minor": 4
}
