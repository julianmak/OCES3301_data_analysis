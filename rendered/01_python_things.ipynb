{
 "cells": [
  {
   "cell_type": "markdown",
   "metadata": {},
   "source": [
    "*updated 18 Jan 2025, Julian Mak (whatever with copyright, do what you want with this)\n",
    "\n",
    "### As part of material for OCES 3301 \"Data Analysis in Ocean Sciences\" delivered at HKUST\n",
    "\n",
    "For the latest version of the material, go to the public facing [GitHub](https://github.com/julianmak/academic-notes/tree/master/OCES3301_data_analysis_ocean) page.\n",
    "\n",
    "------------------------------------------------------------------------------------------------------------"
   ]
  },
  {
   "cell_type": "markdown",
   "metadata": {},
   "source": [
    "# 01: some Python basics and Jupyter notebooks\n",
    "\n",
    "The course here will use [Python](https://en.wikipedia.org/wiki/Python_(programming_language)) through [Jupyter notebooks](https://jupyter.org/). I chose Python because:\n",
    "* It's free (i.e. not [MATLAB](https://en.wikipedia.org/wiki/MATLAB) or SPSS)\n",
    "* It's not [R](https://en.wikipedia.org/wiki/R_(programming_language)) (I hate R syntax personally, but it is very a powerful tool)\n",
    "* Python is used widely, has a lot of packages built in, pretty mature with userbase and support (an appropriate Google search will most of the time help debugging)\n",
    "* Familiarity to me\n",
    "\n",
    "I will openly admit I do not write Python in a Pythonic way: I started on MATLAB until MATLAB screwed up vector graphics outputs for me, so I rage quit and went to Python. The code provided here is certainly not the cleanest way to do it (this is sometimes by design), nor is it the most idiomatic way of doing it, but it should (mostly?) work and do the intended thing.\n",
    "\n",
    "> ## Key Objective(s)\n",
    "> 1. Introduce Juypter notebook as a code development tool and as a means to present scientific documents.\n",
    "> 2. Introduces some basic programming and Python functionalities.\n",
    "> 3. Demonstrates some manipulations of array data."
   ]
  },
  {
   "cell_type": "markdown",
   "metadata": {},
   "source": [
    "----------------------\n",
    "\n",
    "## a) Jupyter notebooks\n",
    "\n",
    "To somewhat explain the benefit of Jupyter notebooks (for me one of the primary reasons I use it), the conventional way of having Python programs is as follows: you open a text editor or whatever Python editor you choose (e.g. [PyCharm](https://www.jetbrains.com/pycharm/), [Spyder](https://www.spyder-ide.org/)), name your file something like `hello_world.py`, with the code:\n",
    "\n",
    "```\n",
    "    #!/usr/bin/python3\n",
    "    \"\"\" code for hello world \"\"\"\n",
    "    print(\"hello world\")\n",
    "```\n",
    "and then run the program via `python hello_world.py` somehow (or click compile/run in the Python editors). This is all well and good if you have short code to write, or just modifying existing code briefly. If you are developing and debugging code, however, you are essentially having to re-run the whole code, waiting for it to return something, analyse, try and fix problem, and repeat. Sometimes you want to just run small segments of code without refreshing the memory (which you can do in MATLAB for example), so Jupyter in this case is useful because you can put bits of code in different *cells*, and run those by themselves to test code. (So in this case this might be a bias from me coming over from MATLAB style of coding.) Jupyter has the functionality to output whatever you write into a variety of formats (e.g. Python `*.py` files, website `*.html` files), through (see top-left corner) `File->Download as`.\n",
    "\n",
    "Jupyter also allows descriptive text next to code, which is potentially useful for having self-contained descriptive files, and having code and science side-by-side. "
   ]
  },
  {
   "cell_type": "markdown",
   "metadata": {},
   "source": [
    "### Jupyter notebook cells\n",
    "\n",
    "Jupyter notebooks have **code cells** and **markdown cells**, for code and comments respectively. This cell is a markdown cell for example aimed at displaying some text. When you click the `+` button on the top left, by default it should give you a new **code** cell. Change that to a markdown cell by going to `Cell->Cell Type->Markdown` (`Cell` on my Jupyter is between `Insert` and `Kernel`).\n",
    "\n",
    "Cells are run with <kbd>Shift</kbd>+<kbd>Enter</kbd>. If it is a code cell then it runs the code, and if it is a markdown cell like this one it renders the text etc.\n",
    "\n",
    "Markdown cells use the [markdown](https://www.markdownguide.org/basic-syntax/) format, which is a bit like HTML for making/editing webpages. It can even do maths (using the [LaTeX](https://en.wikipedia.org/wiki/LaTeX) syntax), e.g.:\n",
    "\n",
    "\\begin{equation*}\n",
    "    \\mathrm{Var}(X) = \\sigma^2 = \\frac{1}{N}\\sum_{i=1}^{N} (x_i - \\mathbb{E}(X))^2 = \\frac{1}{N}\\sum_{i=1}^{N} (x_i - \\mu)^2.\n",
    "\\end{equation*}\n",
    "\n",
    "(Above you might recognise as the un-adjusted variance or standard deviation squared of the population.)\n",
    "\n",
    "Click on that link above and double click some of the markdown cells in the notebooks here (or those to come) to see how to make/modify your own comment cells. Try exploring this a bit yourself (or Google for other things you could do)."
   ]
  },
  {
   "cell_type": "markdown",
   "metadata": {},
   "source": [
    "One could add photos too to the cell, which may help with the scientific narrative. You can do `Edit -> Insert Image` if you have a local version, though the most stable way to do this I am finding is through a web link rather than a link to a local file (I did it through HTML syntax in this case). Here is a cursed crab-horse, and one of (many) cursed animals that will grace/curse our presence in the subsequent notebooks.\n",
    "\n",
    "<img src=\"https://i.imgur.com/t4iX4Yz.gif\" width=\"400\" alt='cursed cat'>"
   ]
  },
  {
   "cell_type": "markdown",
   "metadata": {},
   "source": [
    "You can insert cells (through `Insert`), move cells (through the <kbd>↓</kbd> and <kbd>↑</kbd> buttons), cut/copy/paste/undo/split cells (under `Edit`), and so forth. \n",
    "\n",
    "I think that's about it for Jupyter notebooks. A useful shortcut is comment a block of text, normally <kbd>Ctrl</kbd>+<kbd>/</kbd>. There are more if you go to `Help -> Keyboard Shortcuts`."
   ]
  },
  {
   "cell_type": "markdown",
   "metadata": {},
   "source": [
    "------------------------------\n",
    "\n",
    "## b) Python basics\n",
    "\n",
    "The first and probably most important thing is to know how to kill the code and refresh the memory (so clear all the variables and do a fresh start). You can do this with the buttons underneath the `Kernel` tab at the top of the page, the square button for **Stop**, or the turn-around-sign for **Refresh**. You can also do it in `Kernel -> Interrupt / Restart`.\n",
    "\n",
    "***ALWAYS REFRESH THE NOTEBOOK AND RUN IT ONCE MORE TO CHECK THE CODE ACTUALLY RUNS!!!***\n",
    "\n",
    "* Particularly before you submit the assignments, because you might have floating/redundant variables that might crash the code. There were many of those when I was writing the first draft of these notebooks."
   ]
  },
  {
   "cell_type": "markdown",
   "metadata": {},
   "source": [
    "One of the more basic commands is probably the `Print`, which prints out some text (or things turned into **strings**, see later)."
   ]
  },
  {
   "cell_type": "code",
   "execution_count": 1,
   "metadata": {},
   "outputs": [
    {
     "name": "stdout",
     "output_type": "stream",
     "text": [
      "=== hello world ===\n"
     ]
    }
   ],
   "source": [
    "print(\"=== hello world ===\")"
   ]
  },
  {
   "cell_type": "markdown",
   "metadata": {},
   "source": [
    "The `\" \"` marks (or single quote marks `' '`) denote things between them as **strings**, so that it is interpreted as text. If you type three of these i.e. (`\"\"\" \"\"\"`) then any thing in between, line-breaks included, are treated as text, so are useful as big comments."
   ]
  },
  {
   "cell_type": "code",
   "execution_count": 2,
   "metadata": {},
   "outputs": [
    {
     "name": "stdout",
     "output_type": "stream",
     "text": [
      "\n",
      "          ================================================\n",
      "                |\\      _,,,---,,_\n",
      "          zZZzZ /,`.-'`'    -.  ;-;;,_\n",
      "               |,4-  ) )-,_. ,\\ (  `'-'\n",
      "              '---''(_/--'  `-'\\_)         M1ffy w0z h3re\n",
      "          ================================================\n",
      "\n"
     ]
    }
   ],
   "source": [
    "print(\"\"\"\n",
    "          ================================================\n",
    "                |\\      _,,,---,,_\n",
    "          zZZzZ /,`.-'`'    -.  ;-;;,_\n",
    "               |,4-  ) )-,_. ,\\ (  `'-'\n",
    "              '---''(_/--'  `-'\\_)         M1ffy w0z h3re\n",
    "          ================================================\n",
    "\"\"\")"
   ]
  },
  {
   "cell_type": "markdown",
   "metadata": {},
   "source": [
    "### Quick overview of data types\n",
    "\n",
    "**Strings** was introduced just now, which are basically text. We can define variables as strings, which then allows us to carry them around with the code, and operate on them if we want. There and many kind of operations we can do on strings but these will be done through subsequent examples, and they are not the main focus of the course.\n",
    "\n",
    "Strings occur for example for **categorical** data, e.g. \"cursed\" and \"not cursed\" below.\n",
    "\n",
    "| Type of animal  | Frequency  |\n",
    "| --------------- | ---------- |\n",
    "| cursed          | 777        |\n",
    "| not cursed      | 666        |"
   ]
  },
  {
   "cell_type": "code",
   "execution_count": 3,
   "metadata": {},
   "outputs": [
    {
     "name": "stdout",
     "output_type": "stream",
     "text": [
      "[not using variables      ] Hello I am attending OCES 3301\n",
      "[using a (string) variable] Hello I am attending OCES 3301\n"
     ]
    }
   ],
   "source": [
    "print(\"[not using variables      ] Hello I am attending OCES 3301\")\n",
    "text = \"[using a (string) variable] Hello I am attending OCES 3301\"\n",
    "print(text)"
   ]
  },
  {
   "cell_type": "markdown",
   "metadata": {},
   "source": [
    "**Numbers** are, well numbers, although numbers have different types. Generically the ones you are likely to deal with are **floats**, i.e., numbers decimal places, and **integers**, whole numbers. You can do the usual manipulations with them, although you may need to be slightly careful when you manipulate integers.\n",
    "\n",
    "> NOTE: You can *only* use integers as indices.\n",
    "\n",
    "The below are some codes to play and print with these variables."
   ]
  },
  {
   "cell_type": "code",
   "execution_count": 4,
   "metadata": {},
   "outputs": [
    {
     "name": "stdout",
     "output_type": "stream",
     "text": [
      "[turning number into string using str() + adding strings] number = 0.987654321\n",
      "[old school C style, g   for generic   ] number = 0.987654\n",
      "[old school C style, .3f for 3 d.p.    ] number = 0.988\n",
      "[old school C style, .6f for 6 d.p.    ] number = 0.987654\n",
      "[old school C style, i   for integer   ] number = 0\n",
      "[old school C style, d   for digits    ] number =    0\n",
      "[old school C style, 0 for zero padding] number = 0000\n"
     ]
    }
   ],
   "source": [
    "# C style string prints (have a play around with these to see what the formatting do)\n",
    "\n",
    "number = 0.987654321\n",
    "print(\"[turning number into string using str() + adding strings] number = \" + str(number))\n",
    "print(r\"[old school C style, g   for generic   ] number = %g\" % number)\n",
    "print(r\"[old school C style, .3f for 3 d.p.    ] number = %.3f\" % number)\n",
    "print(r\"[old school C style, .6f for 6 d.p.    ] number = %.6f\" % number)\n",
    "print(r\"[old school C style, i   for integer   ] number = %i\"   % number)\n",
    "print(r\"[old school C style, d   for digits    ] number = %4d\"  % number)\n",
    "print(r\"[old school C style, 0 for zero padding] number = %04d\" % number)"
   ]
  },
  {
   "cell_type": "code",
   "execution_count": 5,
   "metadata": {},
   "outputs": [
    {
     "name": "stdout",
     "output_type": "stream",
     "text": [
      "[python f string, formatting in C style] number = 0.987654321\n",
      "[python f string, formatting in C style] number = 0.988\n",
      "[python f string, formatting in C style] number = 0.987654\n",
      "[python f string, formatting in C style] number = 0\n",
      "[python f string with text] hello world\n"
     ]
    }
   ],
   "source": [
    "# f string prints (mostly going to be using these in the future notebooks)\n",
    "\n",
    "number = 0.987654321\n",
    "print(f\"[python f string, formatting in C style] number = {number}\")\n",
    "print(f\"[python f string, formatting in C style] number = {number:.3f}\")\n",
    "print(f\"[python f string, formatting in C style] number = {number:.6f}\")\n",
    "print(f\"[python f string, formatting in C style] number = {int(number)}\")\n",
    "\n",
    "text = \"hello world\"\n",
    "print(f\"[python f string with text] {text}\")"
   ]
  },
  {
   "cell_type": "code",
   "execution_count": 6,
   "metadata": {},
   "outputs": [
    {
     "name": "stdout",
     "output_type": "stream",
     "text": [
      "a is <class 'int'>, while b is <class 'float'>\n"
     ]
    }
   ],
   "source": [
    "# number types (python will normally convert outputs to a float if you mix up integers and floats)\n",
    "\n",
    "a = 1    # integer\n",
    "b = 1.0  # floats\n",
    "\n",
    "print(f\"a is {type(a)}, while b is {type(b)}\")"
   ]
  },
  {
   "cell_type": "markdown",
   "metadata": {},
   "source": [
    "There are whats called **logicals** or **Boolean** variables, essentially `True` and `False`, but we will deal with them later. The thing you should know is that `True` is generally identified with `1`, while `False` is generally identified with `0`."
   ]
  },
  {
   "cell_type": "markdown",
   "metadata": {},
   "source": [
    "## Packages\n",
    "\n",
    "While one could in principle do lots of things in native Python, we normally import **packages** to help us along.\n",
    "\n",
    "The following are examples that load Scientific Python `scipy` (without any abbreviations), `numpy` (with an abbreviation), and a module within the package `matplotlib` itself for plotting purposes. These are the main three packages we will be using in this course."
   ]
  },
  {
   "cell_type": "code",
   "execution_count": 7,
   "metadata": {},
   "outputs": [],
   "source": [
    "import scipy\n",
    "import numpy as np\n",
    "import matplotlib.pyplot as plt"
   ]
  },
  {
   "cell_type": "markdown",
   "metadata": {},
   "source": [
    "It is useful to check syntax and contents of a package subroutine etc., which you can do with the question mark `?` after the command to check what is going on. The following queries the `plot` command within `matplotlib.pyplot` (you can basically do the same by searching on Google as well):"
   ]
  },
  {
   "cell_type": "code",
   "execution_count": 8,
   "metadata": {},
   "outputs": [
    {
     "data": {
      "text/plain": [
       "\u001b[31mSignature:\u001b[39m\n",
       "plt.plot(\n",
       "    *args: \u001b[33m'float | ArrayLike | str'\u001b[39m,\n",
       "    scalex: \u001b[33m'bool'\u001b[39m = \u001b[38;5;28;01mTrue\u001b[39;00m,\n",
       "    scaley: \u001b[33m'bool'\u001b[39m = \u001b[38;5;28;01mTrue\u001b[39;00m,\n",
       "    data=\u001b[38;5;28;01mNone\u001b[39;00m,\n",
       "    **kwargs,\n",
       ") -> \u001b[33m'list[Line2D]'\u001b[39m\n",
       "\u001b[31mDocstring:\u001b[39m\n",
       "Plot y versus x as lines and/or markers.\n",
       "\n",
       "Call signatures::\n",
       "\n",
       "    plot([x], y, [fmt], *, data=None, **kwargs)\n",
       "    plot([x], y, [fmt], [x2], y2, [fmt2], ..., **kwargs)\n",
       "\n",
       "The coordinates of the points or line nodes are given by *x*, *y*.\n",
       "\n",
       "The optional parameter *fmt* is a convenient way for defining basic\n",
       "formatting like color, marker and linestyle. It's a shortcut string\n",
       "notation described in the *Notes* section below.\n",
       "\n",
       ">>> plot(x, y)        # plot x and y using default line style and color\n",
       ">>> plot(x, y, 'bo')  # plot x and y using blue circle markers\n",
       ">>> plot(y)           # plot y using x as index array 0..N-1\n",
       ">>> plot(y, 'r+')     # ditto, but with red plusses\n",
       "\n",
       "You can use `.Line2D` properties as keyword arguments for more\n",
       "control on the appearance. Line properties and *fmt* can be mixed.\n",
       "The following two calls yield identical results:\n",
       "\n",
       ">>> plot(x, y, 'go--', linewidth=2, markersize=12)\n",
       ">>> plot(x, y, color='green', marker='o', linestyle='dashed',\n",
       "...      linewidth=2, markersize=12)\n",
       "\n",
       "When conflicting with *fmt*, keyword arguments take precedence.\n",
       "\n",
       "\n",
       "**Plotting labelled data**\n",
       "\n",
       "There's a convenient way for plotting objects with labelled data (i.e.\n",
       "data that can be accessed by index ``obj['y']``). Instead of giving\n",
       "the data in *x* and *y*, you can provide the object in the *data*\n",
       "parameter and just give the labels for *x* and *y*::\n",
       "\n",
       ">>> plot('xlabel', 'ylabel', data=obj)\n",
       "\n",
       "All indexable objects are supported. This could e.g. be a `dict`, a\n",
       "`pandas.DataFrame` or a structured numpy array.\n",
       "\n",
       "\n",
       "**Plotting multiple sets of data**\n",
       "\n",
       "There are various ways to plot multiple sets of data.\n",
       "\n",
       "- The most straight forward way is just to call `plot` multiple times.\n",
       "  Example:\n",
       "\n",
       "  >>> plot(x1, y1, 'bo')\n",
       "  >>> plot(x2, y2, 'go')\n",
       "\n",
       "- If *x* and/or *y* are 2D arrays, a separate data set will be drawn\n",
       "  for every column. If both *x* and *y* are 2D, they must have the\n",
       "  same shape. If only one of them is 2D with shape (N, m) the other\n",
       "  must have length N and will be used for every data set m.\n",
       "\n",
       "  Example:\n",
       "\n",
       "  >>> x = [1, 2, 3]\n",
       "  >>> y = np.array([[1, 2], [3, 4], [5, 6]])\n",
       "  >>> plot(x, y)\n",
       "\n",
       "  is equivalent to:\n",
       "\n",
       "  >>> for col in range(y.shape[1]):\n",
       "  ...     plot(x, y[:, col])\n",
       "\n",
       "- The third way is to specify multiple sets of *[x]*, *y*, *[fmt]*\n",
       "  groups::\n",
       "\n",
       "  >>> plot(x1, y1, 'g^', x2, y2, 'g-')\n",
       "\n",
       "  In this case, any additional keyword argument applies to all\n",
       "  datasets. Also, this syntax cannot be combined with the *data*\n",
       "  parameter.\n",
       "\n",
       "By default, each line is assigned a different style specified by a\n",
       "'style cycle'. The *fmt* and line property parameters are only\n",
       "necessary if you want explicit deviations from these defaults.\n",
       "Alternatively, you can also change the style cycle using\n",
       ":rc:`axes.prop_cycle`.\n",
       "\n",
       "\n",
       "Parameters\n",
       "----------\n",
       "x, y : array-like or float\n",
       "    The horizontal / vertical coordinates of the data points.\n",
       "    *x* values are optional and default to ``range(len(y))``.\n",
       "\n",
       "    Commonly, these parameters are 1D arrays.\n",
       "\n",
       "    They can also be scalars, or two-dimensional (in that case, the\n",
       "    columns represent separate data sets).\n",
       "\n",
       "    These arguments cannot be passed as keywords.\n",
       "\n",
       "fmt : str, optional\n",
       "    A format string, e.g. 'ro' for red circles. See the *Notes*\n",
       "    section for a full description of the format strings.\n",
       "\n",
       "    Format strings are just an abbreviation for quickly setting\n",
       "    basic line properties. All of these and more can also be\n",
       "    controlled by keyword arguments.\n",
       "\n",
       "    This argument cannot be passed as keyword.\n",
       "\n",
       "data : indexable object, optional\n",
       "    An object with labelled data. If given, provide the label names to\n",
       "    plot in *x* and *y*.\n",
       "\n",
       "    .. note::\n",
       "        Technically there's a slight ambiguity in calls where the\n",
       "        second label is a valid *fmt*. ``plot('n', 'o', data=obj)``\n",
       "        could be ``plt(x, y)`` or ``plt(y, fmt)``. In such cases,\n",
       "        the former interpretation is chosen, but a warning is issued.\n",
       "        You may suppress the warning by adding an empty format string\n",
       "        ``plot('n', 'o', '', data=obj)``.\n",
       "\n",
       "Returns\n",
       "-------\n",
       "list of `.Line2D`\n",
       "    A list of lines representing the plotted data.\n",
       "\n",
       "Other Parameters\n",
       "----------------\n",
       "scalex, scaley : bool, default: True\n",
       "    These parameters determine if the view limits are adapted to the\n",
       "    data limits. The values are passed on to\n",
       "    `~.axes.Axes.autoscale_view`.\n",
       "\n",
       "**kwargs : `~matplotlib.lines.Line2D` properties, optional\n",
       "    *kwargs* are used to specify properties like a line label (for\n",
       "    auto legends), linewidth, antialiasing, marker face color.\n",
       "    Example::\n",
       "\n",
       "    >>> plot([1, 2, 3], [1, 2, 3], 'go-', label='line 1', linewidth=2)\n",
       "    >>> plot([1, 2, 3], [1, 4, 9], 'rs', label='line 2')\n",
       "\n",
       "    If you specify multiple lines with one plot call, the kwargs apply\n",
       "    to all those lines. In case the label object is iterable, each\n",
       "    element is used as labels for each set of data.\n",
       "\n",
       "    Here is a list of available `.Line2D` properties:\n",
       "\n",
       "    Properties:\n",
       "    agg_filter: a filter function, which takes a (m, n, 3) float array and a dpi value, and returns a (m, n, 3) array and two offsets from the bottom left corner of the image\n",
       "    alpha: float or None\n",
       "    animated: bool\n",
       "    antialiased or aa: bool\n",
       "    clip_box: `~matplotlib.transforms.BboxBase` or None\n",
       "    clip_on: bool\n",
       "    clip_path: Patch or (Path, Transform) or None\n",
       "    color or c: :mpltype:`color`\n",
       "    dash_capstyle: `.CapStyle` or {'butt', 'projecting', 'round'}\n",
       "    dash_joinstyle: `.JoinStyle` or {'miter', 'round', 'bevel'}\n",
       "    dashes: sequence of floats (on/off ink in points) or (None, None)\n",
       "    data: (2, N) array or two 1D arrays\n",
       "    drawstyle or ds: {'default', 'steps', 'steps-pre', 'steps-mid', 'steps-post'}, default: 'default'\n",
       "    figure: `~matplotlib.figure.Figure` or `~matplotlib.figure.SubFigure`\n",
       "    fillstyle: {'full', 'left', 'right', 'bottom', 'top', 'none'}\n",
       "    gapcolor: :mpltype:`color` or None\n",
       "    gid: str\n",
       "    in_layout: bool\n",
       "    label: object\n",
       "    linestyle or ls: {'-', '--', '-.', ':', '', (offset, on-off-seq), ...}\n",
       "    linewidth or lw: float\n",
       "    marker: marker style string, `~.path.Path` or `~.markers.MarkerStyle`\n",
       "    markeredgecolor or mec: :mpltype:`color`\n",
       "    markeredgewidth or mew: float\n",
       "    markerfacecolor or mfc: :mpltype:`color`\n",
       "    markerfacecoloralt or mfcalt: :mpltype:`color`\n",
       "    markersize or ms: float\n",
       "    markevery: None or int or (int, int) or slice or list[int] or float or (float, float) or list[bool]\n",
       "    mouseover: bool\n",
       "    path_effects: list of `.AbstractPathEffect`\n",
       "    picker: float or callable[[Artist, Event], tuple[bool, dict]]\n",
       "    pickradius: float\n",
       "    rasterized: bool\n",
       "    sketch_params: (scale: float, length: float, randomness: float)\n",
       "    snap: bool or None\n",
       "    solid_capstyle: `.CapStyle` or {'butt', 'projecting', 'round'}\n",
       "    solid_joinstyle: `.JoinStyle` or {'miter', 'round', 'bevel'}\n",
       "    transform: unknown\n",
       "    url: str\n",
       "    visible: bool\n",
       "    xdata: 1D array\n",
       "    ydata: 1D array\n",
       "    zorder: float\n",
       "\n",
       "See Also\n",
       "--------\n",
       "scatter : XY scatter plot with markers of varying size and/or color (\n",
       "    sometimes also called bubble chart).\n",
       "\n",
       "Notes\n",
       "-----\n",
       "\n",
       ".. note::\n",
       "\n",
       "    This is the :ref:`pyplot wrapper <pyplot_interface>` for `.axes.Axes.plot`.\n",
       "\n",
       "**Format Strings**\n",
       "\n",
       "A format string consists of a part for color, marker and line::\n",
       "\n",
       "    fmt = '[marker][line][color]'\n",
       "\n",
       "Each of them is optional. If not provided, the value from the style\n",
       "cycle is used. Exception: If ``line`` is given, but no ``marker``,\n",
       "the data will be a line without markers.\n",
       "\n",
       "Other combinations such as ``[color][marker][line]`` are also\n",
       "supported, but note that their parsing may be ambiguous.\n",
       "\n",
       "**Markers**\n",
       "\n",
       "=============   ===============================\n",
       "character       description\n",
       "=============   ===============================\n",
       "``'.'``         point marker\n",
       "``','``         pixel marker\n",
       "``'o'``         circle marker\n",
       "``'v'``         triangle_down marker\n",
       "``'^'``         triangle_up marker\n",
       "``'<'``         triangle_left marker\n",
       "``'>'``         triangle_right marker\n",
       "``'1'``         tri_down marker\n",
       "``'2'``         tri_up marker\n",
       "``'3'``         tri_left marker\n",
       "``'4'``         tri_right marker\n",
       "``'8'``         octagon marker\n",
       "``'s'``         square marker\n",
       "``'p'``         pentagon marker\n",
       "``'P'``         plus (filled) marker\n",
       "``'*'``         star marker\n",
       "``'h'``         hexagon1 marker\n",
       "``'H'``         hexagon2 marker\n",
       "``'+'``         plus marker\n",
       "``'x'``         x marker\n",
       "``'X'``         x (filled) marker\n",
       "``'D'``         diamond marker\n",
       "``'d'``         thin_diamond marker\n",
       "``'|'``         vline marker\n",
       "``'_'``         hline marker\n",
       "=============   ===============================\n",
       "\n",
       "**Line Styles**\n",
       "\n",
       "=============    ===============================\n",
       "character        description\n",
       "=============    ===============================\n",
       "``'-'``          solid line style\n",
       "``'--'``         dashed line style\n",
       "``'-.'``         dash-dot line style\n",
       "``':'``          dotted line style\n",
       "=============    ===============================\n",
       "\n",
       "Example format strings::\n",
       "\n",
       "    'b'    # blue markers with default shape\n",
       "    'or'   # red circles\n",
       "    '-g'   # green solid line\n",
       "    '--'   # dashed line with default color\n",
       "    '^k:'  # black triangle_up markers connected by a dotted line\n",
       "\n",
       "**Colors**\n",
       "\n",
       "The supported color abbreviations are the single letter codes\n",
       "\n",
       "=============    ===============================\n",
       "character        color\n",
       "=============    ===============================\n",
       "``'b'``          blue\n",
       "``'g'``          green\n",
       "``'r'``          red\n",
       "``'c'``          cyan\n",
       "``'m'``          magenta\n",
       "``'y'``          yellow\n",
       "``'k'``          black\n",
       "``'w'``          white\n",
       "=============    ===============================\n",
       "\n",
       "and the ``'CN'`` colors that index into the default property cycle.\n",
       "\n",
       "If the color is the only part of the format string, you can\n",
       "additionally use any  `matplotlib.colors` spec, e.g. full names\n",
       "(``'green'``) or hex strings (``'#008000'``).\n",
       "\u001b[31mFile:\u001b[39m      ~/miniconda3/envs/py311/lib/python3.11/site-packages/matplotlib/pyplot.py\n",
       "\u001b[31mType:\u001b[39m      function"
      ]
     },
     "metadata": {},
     "output_type": "display_data"
    }
   ],
   "source": [
    "plt.plot?"
   ]
  },
  {
   "cell_type": "markdown",
   "metadata": {},
   "source": [
    "We are going to talk about the contents of the package when they come up in due course."
   ]
  },
  {
   "cell_type": "markdown",
   "metadata": {},
   "source": [
    "## Arrays and indices\n",
    "\n",
    "**Arrays** most of the time are a collection of numbers. Arrays can have any dimension you like, but until we get to *04_regression* we are going to stick with one dimension. You can think of a 1d array as a whole load of boxes in a row that contains numbers, 2d array as boxes with a row and column that contains numbers, and so on.\n",
    "\n",
    "The **index** is the position in the array along a dimension. See below on how to call these etc.\n",
    "\n",
    "> NOTE: Python starts the index at `0`, so calling the zero index really means calling the 1st entry, and so forth.\n",
    ">       MATLAB and Julia for example start at `1`, so just be aware of differences\n",
    "\n",
    "Below is some code in initialising arrays and putting things in them."
   ]
  },
  {
   "cell_type": "code",
   "execution_count": 9,
   "metadata": {},
   "outputs": [
    {
     "name": "stdout",
     "output_type": "stream",
     "text": [
      "initialise          dummy array: [0. 0. 0. 0. 0.]\n",
      "d(ata)type of       dummy array: float64\n",
      "put some stuff into dummy array: [1. 2. 3. 4. 5.]\n"
     ]
    }
   ],
   "source": [
    "dummy_array = np.zeros(5) # set up array with 5 zeros\n",
    "print(f\"initialise          dummy array: {dummy_array}\")\n",
    "print(f\"d(ata)type of       dummy array: {dummy_array.dtype}\")\n",
    "\n",
    "# indexing starts at ZERO! (C-like convention; MATLAB starts at 1 for example)\n",
    "dummy_array[0] = 1.0\n",
    "dummy_array[1] = 2.0\n",
    "dummy_array[2] = 3.0\n",
    "dummy_array[3] = 4.0\n",
    "dummy_array[4] = 5\n",
    "print(f\"put some stuff into dummy array: {dummy_array}\")\n",
    "\n",
    "# NOTE: type needs to be consistent most of the time, here array expects float64 but giving an INT entry\n",
    "#       will automatically convert it. Sometimes this is fine, sometimes this will fail \n",
    "#       (e.g. try dummy_array[4] = 5 + 1j, which throws up error about types)"
   ]
  },
  {
   "cell_type": "markdown",
   "metadata": {},
   "source": [
    "The `-1` index refers to the last entry in the array (in some specified dimension usually). `-2` is one before last, and so on.\n",
    "\n",
    "The ellipsis `:` is the separator. Just on its own it says \"give me everything\". Otherwise it would be `start:end:step`, which is the index you want to start, index you want to end (but not including that index), and the amount of steps you want to jump. Not all arguments have to be given, and in those cases, having `:` next to each other defaults to `0`, `end` and `1` respectively. See code below for an example."
   ]
  },
  {
   "cell_type": "code",
   "execution_count": 10,
   "metadata": {},
   "outputs": [
    {
     "name": "stdout",
     "output_type": "stream",
     "text": [
      "printing 1st      entry of array: 1.0\n",
      "printing 2nd      entry of array: 2.0\n",
      "printing 3rd      entry of array: 3.0\n",
      "printing     last entry of array: 5.0\n",
      "printing 2nd last entry of array: 4.0\n",
      " \n",
      "printing all        entries       : [1. 2. 3. 4. 5.]\n",
      "printing 1st to 3rd entry         : [1. 2. 3.]\n",
      "printing entries starting from 2nd: [2. 3. 4. 5.]\n",
      "printing entries         up to 4th: [1. 2. 3. 4.]\n",
      "printing all entries in steps of 2: [1. 3. 5.]\n",
      "  as above                        : [1. 3. 5.]\n"
     ]
    }
   ],
   "source": [
    "print(f\"printing 1st      entry of array: {dummy_array[0]}\")\n",
    "print(f\"printing 2nd      entry of array: {dummy_array[1]}\")\n",
    "print(f\"printing 3rd      entry of array: {dummy_array[2]}\")\n",
    "print(f\"printing     last entry of array: {dummy_array[-1]}\")\n",
    "print(f\"printing 2nd last entry of array: {dummy_array[-2]}\")\n",
    "\n",
    "print(\" \")\n",
    "print(f\"printing all        entries       : {dummy_array[:]}\")\n",
    "print(f\"printing 1st to 3rd entry         : {dummy_array[0:3]}\")\n",
    "print(f\"printing entries starting from 2nd: {dummy_array[1::]}\")\n",
    "print(f\"printing entries         up to 4th: {dummy_array[:4:]}\")\n",
    "print(f\"printing all entries in steps of 2: {dummy_array[::2]}\")\n",
    "print(f\"  as above                        : {dummy_array[0::2]}\")"
   ]
  },
  {
   "cell_type": "markdown",
   "metadata": {},
   "source": [
    "Here are some extra commands that are frequently used. `len` gets the **length** of the 1d array, which is useful sometimes for writing `for` loops as it automatically gives you the extent you need to cycle through the array.\n",
    "\n",
    "> NOTE: `len` will fail if you give it a multidimensional array; you probably want (say) `dummy_array.shape` instead, appropriately indexed.\n",
    "\n",
    "> <span style=\"color:red\">**Q.**</span> look up what `np.arange` does and its syntax"
   ]
  },
  {
   "cell_type": "code",
   "execution_count": 11,
   "metadata": {},
   "outputs": [
    {
     "name": "stdout",
     "output_type": "stream",
     "text": [
      "dummy array is of size/length 5\n",
      "[0. 1. 2. 3. 4.]\n",
      "[678.   1. 678.   3. 678.]\n"
     ]
    }
   ],
   "source": [
    "dummy_array = np.zeros(5) # set up array with 5 zeros\n",
    "print(f\"dummy array is of size/length {len(dummy_array)}\")\n",
    "dummy_array[:] = np.arange(0, len(dummy_array), 1)\n",
    "print(dummy_array)\n",
    "\n",
    "dummy_array[::2] = 678\n",
    "print(dummy_array)"
   ]
  },
  {
   "cell_type": "markdown",
   "metadata": {},
   "source": [
    "## Lists\n",
    "\n",
    "**Lists** can contain anything, and it particularly useful if you want to mix data types (e.g. you can even have arrays and lists within lists if you really want to). Lists are denoted by square brackets `[STUFF]`, and an empty list is initialised as `[]`.\n",
    "\n",
    "> NOTE: If you have a list of only one type of data in a list, you can turn the list into an array by `np.asarray(dummy_list)` say\n",
    "\n",
    "Below are some sample code illustrating the manipulation of lists. I'll use lists when it suits me in due course (usually when I am dealing with a collection of strings, or that I don't know in advance how many things are going to be spat out by the code, or if I am lazy and cannot be bothered to initialise empty arrays properly)."
   ]
  },
  {
   "cell_type": "code",
   "execution_count": 12,
   "metadata": {},
   "outputs": [
    {
     "name": "stdout",
     "output_type": "stream",
     "text": [
      "printing list [should be empty ] []\n",
      "printing list [after 1st append] ['hello']\n",
      "printing list [after 2nd append] ['hello', 5.0]\n",
      "printing list [after 3rd append] ['hello', 5.0, 5]\n",
      "printing list [after 4th append] ['hello', 5.0, 5, array([0.  , 0.25, 0.5 , 0.75, 1.  ])]\n",
      " \n",
      "printing 1st      entry of list: hello\n",
      "printing 2nd      entry of list: 5.0\n",
      "printing 3rd      entry of list: 5\n",
      "printing     last entry of list: [0.   0.25 0.5  0.75 1.  ]\n",
      "printing 2nd last entry of list: 5\n"
     ]
    }
   ],
   "source": [
    "dummy_list = []\n",
    "print(f\"printing list [should be empty ] {dummy_list}\")\n",
    "dummy_list.append(\"hello\")\n",
    "print(f\"printing list [after 1st append] {dummy_list}\")\n",
    "dummy_list.append(5.0)\n",
    "print(f\"printing list [after 2nd append] {dummy_list}\")\n",
    "dummy_list.append(5)\n",
    "print(f\"printing list [after 3rd append] {dummy_list}\")\n",
    "dummy_list.append(np.linspace(0, 1, 5))\n",
    "print(f\"printing list [after 4th append] {dummy_list}\")\n",
    "\n",
    "# lists are indexed by numbers\n",
    "\n",
    "print(\" \")\n",
    "print(f\"printing 1st      entry of list: {dummy_list[0]}\")\n",
    "print(f\"printing 2nd      entry of list: {dummy_list[1]}\")\n",
    "print(f\"printing 3rd      entry of list: {dummy_list[2]}\")\n",
    "print(f\"printing     last entry of list: {dummy_list[-1]}\")\n",
    "print(f\"printing 2nd last entry of list: {dummy_list[-2]}\")"
   ]
  },
  {
   "cell_type": "markdown",
   "metadata": {},
   "source": [
    "## Dictionaries\n",
    "\n",
    "**Dictionaries** are kind of like lists, but more organised, and referenced with **keys** that are normally strings. These are denoted by curly brackets `{STUFF}`, and an empty dictionary is initialised as `{}`.\n",
    "\n",
    "Below is some code for dictionaries and how to reference them."
   ]
  },
  {
   "cell_type": "code",
   "execution_count": 13,
   "metadata": {},
   "outputs": [
    {
     "name": "stdout",
     "output_type": "stream",
     "text": [
      "printing dictonary [should be empty ] {}\n",
      "full print of dummy_dict: {'dish': 'sai chau fan (western style fried rice)', 'ingredients': {'eggs': 1, 'oil': 'standard', 'ham': 'peppa pig', 'ketchup': {'brand': 'Heinz', 'amount': 2.0, 'units': 'tbsp'}}, 'instructions': array([1., 1., 1., 1., 1., 1., 1.])}\n",
      " \n",
      "calling entries of dummy_dict by key: {'eggs': 1, 'oil': 'standard', 'ham': 'peppa pig', 'ketchup': {'brand': 'Heinz', 'amount': 2.0, 'units': 'tbsp'}}\n"
     ]
    },
    {
     "data": {
      "text/plain": [
       "{'brand': 'Heinz', 'amount': 2.0, 'units': 'tbsp'}"
      ]
     },
     "execution_count": 13,
     "metadata": {},
     "output_type": "execute_result"
    }
   ],
   "source": [
    "dummy_dict = {}\n",
    "print(f\"printing dictonary [should be empty ] {dummy_dict}\")\n",
    "\n",
    "dummy_dict = { \"dish\" : \"sai chau fan (western style fried rice)\",\n",
    "               \"ingredients\" : {\n",
    "                                \"eggs\" : 1,\n",
    "                                \"oil\"  : \"standard\",\n",
    "                                \"ham\"  : \"peppa pig\",\n",
    "                                \"ketchup\" : {\"brand\" : \"Heinz\",\n",
    "                                             \"amount\":  2.0,\n",
    "                                             \"units\" :  \"tbsp\"}\n",
    "                               },\n",
    "              \"instructions\" : np.ones(7), # because why not...\n",
    "             }\n",
    "print(f\"full print of dummy_dict: {dummy_dict}\")\n",
    "print(\" \")\n",
    "print(f\"calling entries of dummy_dict by key: {dummy_dict['ingredients']}\")\n",
    "dummy_dict[\"ingredients\"]\n",
    "\n",
    "# I use double quotes by default, and fstrings sees quotes differently, so in the above case\n",
    "# to get fstring to call into a dictionary a different set of quote marks are needed, so\n",
    "#   print(f'calling entries of dummy_dict by key: {dummy_dict[\"ingredients\"]}')\n",
    "# would be ok too\n",
    "\n",
    "dummy_dict[\"ingredients\"][\"ketchup\"]"
   ]
  },
  {
   "cell_type": "code",
   "execution_count": 14,
   "metadata": {},
   "outputs": [
    {
     "name": "stdout",
     "output_type": "stream",
     "text": [
      "[1. 1. 1. 1. 1. 1. 1.]\n",
      "[0. 1. 2. 3. 4. 5. 6.]\n"
     ]
    }
   ],
   "source": [
    "# modify entries in a dictionary\n",
    "\n",
    "dummy_dict = {}\n",
    "dummy_dict = { \"dish\" : \"sai chau fan (western style fried rice)\",\n",
    "               \"ingredients\" : {\n",
    "                                \"eggs\" : 1,\n",
    "                                \"oil\"  : \"standard\",\n",
    "                                \"ham\"  : \"peppa pig\",\n",
    "                                \"ketchup\" : {\"brand\" : \"Heinz\",\n",
    "                                             \"amount\":  2.0,\n",
    "                                             \"units\" :  \"tbsp\"}\n",
    "                               },\n",
    "              \"instructions\" : np.ones(7), # because why not...\n",
    "             }\n",
    "print(dummy_dict[\"instructions\"])\n",
    "dummy_dict[\"instructions\"] = np.float64(np.arange(0, 7, 1))\n",
    "print(dummy_dict[\"instructions\"])"
   ]
  },
  {
   "cell_type": "code",
   "execution_count": 15,
   "metadata": {},
   "outputs": [
    {
     "name": "stdout",
     "output_type": "stream",
     "text": [
      "array outside dictionary is [1. 1. 1. 1. 1. 1. 1.]\n",
      "modified array outside dictionary\n",
      "array      in dictionary is still [1. 1. 1. 1. 1. 1. 1.]\n",
      "array outside dictionary is now   [0. 1. 2. 3. 4. 5. 6.]\n"
     ]
    }
   ],
   "source": [
    "# can pull variables out by making a copy say\n",
    "\n",
    "dummy_dict = {}\n",
    "dummy_dict = { \"dish\" : \"sai chau fan (western style fried rice)\",\n",
    "               \"ingredients\" : {\n",
    "                                \"eggs\" : 1,\n",
    "                                \"oil\"  : \"standard\",\n",
    "                                \"ham\"  : \"peppa pig\",\n",
    "                                \"ketchup\" : {\"brand\" : \"Heinz\",\n",
    "                                             \"amount\":  2.0,\n",
    "                                             \"units\" :  \"tbsp\"}\n",
    "                               },\n",
    "              \"instructions\" : np.ones(7), # because why not...\n",
    "             }\n",
    "\n",
    "dummy_array = dummy_dict[\"instructions\"]\n",
    "print(f\"array outside dictionary is {dummy_array}\")\n",
    "dummy_array = np.float64(np.arange(0, 7, 1))\n",
    "print(f\"modified array outside dictionary\")\n",
    "print(f\"array      in dictionary is still {dummy_dict['instructions']}\")\n",
    "print(f\"array outside dictionary is now   {dummy_array}\")"
   ]
  },
  {
   "cell_type": "markdown",
   "metadata": {},
   "source": [
    "> <span style=\"color:red\">**Q.**</span> Try making your own arrays, lists and dictionaries, and modify them etc."
   ]
  },
  {
   "cell_type": "markdown",
   "metadata": {},
   "source": [
    "-------------------\n",
    "\n",
    "# c) Loops and conditionals \n",
    "\n",
    "Technically this could be under the previous heading, but the below is actually fairly generic with programming languages, although I am going to show this for Python syntax.\n",
    "\n",
    "The main thing to look out for here is **indentation**, which also applies later to **subroutines**."
   ]
  },
  {
   "cell_type": "markdown",
   "metadata": {},
   "source": [
    "## FOR loops\n",
    "\n",
    "One of the standard workhorses. Instead of writing the same code out multiple times to get it to run multiple times, you put this into a **for loop** and write one instance of code.\n",
    "\n",
    "For loops usually need an index and range, and some instructions. See the code below for printing hello world 6 times. `i` is the index (although it is never used), `range(6)` sort of gives you `[0, 1, 2, 3, 4, 5]`, so you are cycling through `i=0`, `i=1`, until the end. The `:` ends the range, and anything indented (by default either two or four empty spaces) are the instructions that will be carried out within the for loop. So, in a verbose way, the below is doing\n",
    "\n",
    "> i = 0, print(\"hello world\")\n",
    ">\n",
    "> i = 1, print(\"hello world\")\n",
    ">\n",
    "> etc., stop after i = 5, print(\"hello world\")"
   ]
  },
  {
   "cell_type": "code",
   "execution_count": 16,
   "metadata": {},
   "outputs": [
    {
     "name": "stdout",
     "output_type": "stream",
     "text": [
      "hello world\n",
      "hello world\n",
      "hello world\n",
      "hello world\n",
      "hello world\n",
      "hello world\n"
     ]
    }
   ],
   "source": [
    "for i in range(6):\n",
    "    print(\"hello world\")"
   ]
  },
  {
   "cell_type": "markdown",
   "metadata": {},
   "source": [
    "> <span style=\"color:red\">**Q.**</span> what is the difference between\n",
    "> ```\n",
    "  for i in range(6):\n",
    "      print(\"hello world\")\n",
    "      print(\"I can haz cheezburger?\")\n",
    "> ```\n",
    "> and\n",
    "> ```\n",
    "  for i in range(6):\n",
    "      print(\"hello world\")\n",
    "  print(\"I can haz cheezburger?\")\n",
    "> ```\n",
    "\n",
    "> <span style=\"color:red\">**Q.**</span> what about this one?\n",
    "> ```\n",
    "  for i in range(6):\n",
    "      print(i)\n",
    "> ```\n",
    "\n",
    "> <span style=\"color:red\">**Q.**</span> the following will fail, why?\n",
    "> ```\n",
    "  for i in range(6.0):\n",
    "      print(i)\n",
    "> ```"
   ]
  },
  {
   "cell_type": "markdown",
   "metadata": {},
   "source": [
    "Python lets you cycle through list entries as well as indices, such as the code below. This might be useful if you want to cycle through keys within a dataset, which is organised in a dictionary for example."
   ]
  },
  {
   "cell_type": "code",
   "execution_count": 17,
   "metadata": {},
   "outputs": [
    {
     "name": "stdout",
     "output_type": "stream",
     "text": [
      "I\n",
      "can\n",
      "haz\n",
      "cheeseburger\n",
      "?\n"
     ]
    }
   ],
   "source": [
    "for word in [\"I\", \"can\", \"haz\", \"cheeseburger\", \"?\"]:\n",
    "    print(word)"
   ]
  },
  {
   "cell_type": "code",
   "execution_count": 18,
   "metadata": {},
   "outputs": [
    {
     "name": "stdout",
     "output_type": "stream",
     "text": [
      "never gonna\n",
      "give you\n",
      "up , \n",
      "let you\n",
      "down ['never', 'gonna', 'run', 'around', 'and', 'desert', 'you']\n"
     ]
    }
   ],
   "source": [
    "# you can cycle through index or keys, e.g.\n",
    "\n",
    "dummy_dict = {\"never\" : \"gonna\",\n",
    "              \"give\"  : \"you\"  ,\n",
    "              \"up\"    : \", \"   ,\n",
    "              \"never\" : \"gonna\",\n",
    "              \"let\"   : \"you\",\n",
    "              \"down\"  : [\"never\", \"gonna\", \"run\", \"around\", \"and\", \"desert\", \"you\"]}\n",
    "\n",
    "for key in dummy_dict:\n",
    "    print(key, dummy_dict[key])"
   ]
  },
  {
   "cell_type": "markdown",
   "metadata": {},
   "source": [
    "> NOTE: Since one of the keys are doubled, one of the lines doesn't show. In a cell below, try and modify the dictionary a little bit so the above loop will print out the classic Rick Astley's chorus as intended (no right answer to how you do this particularly)."
   ]
  },
  {
   "cell_type": "markdown",
   "metadata": {},
   "source": [
    "## IF conditional\n",
    "\n",
    "Only do stuff if some condition is satisfied, i.e. when it is `True`. Syntax is essentially the same as the for loops. For example (before you run this, think about what this does, then run it):"
   ]
  },
  {
   "cell_type": "code",
   "execution_count": 19,
   "metadata": {},
   "outputs": [
    {
     "name": "stdout",
     "output_type": "stream",
     "text": [
      "0\n",
      "Rick Astley\n",
      "1\n",
      "Rick Astley\n",
      "2\n",
      "Rick Astley\n",
      "3\n",
      "Rick Astley\n",
      "4\n",
      "Rick Astley\n",
      "5\n",
      "Rick Astley\n"
     ]
    }
   ],
   "source": [
    "for i in range(6):\n",
    "    print(i)\n",
    "    for j in range(5):\n",
    "        if j == 3:\n",
    "            print(\"Rick Astley\")"
   ]
  },
  {
   "cell_type": "markdown",
   "metadata": {},
   "source": [
    "Here are some examples of manipulation of logical/Boolean variables."
   ]
  },
  {
   "cell_type": "code",
   "execution_count": 20,
   "metadata": {},
   "outputs": [
    {
     "name": "stdout",
     "output_type": "stream",
     "text": [
      "True and False are of type <class 'bool'> and <class 'bool'> (Boolean)\n",
      "True\n",
      "True\n",
      "True\n"
     ]
    }
   ],
   "source": [
    "print(f\"True and False are of type {type(True)} and {type(False)} (Boolean)\")\n",
    "\n",
    "# the following mean are all Trues\n",
    "print(True and True)\n",
    "print(True or False)\n",
    "print(not False)"
   ]
  },
  {
   "cell_type": "markdown",
   "metadata": {},
   "source": [
    "Booleans are useful for doing queries of an array, but you could use it for anything really. For example, are two numbers the same through `==`, are they bigger/smaller through `>` and `<` (or `>=` and `<=` to include equality), not equal to as `!=`, are two strings equal through `==` etc.\n",
    "\n",
    "You can combine multiple statements with AND `&`, or OR `|`. You could also write out `and` or `or`. NOT can be used too as `~`, or just `not`. The `&`, `|` and `~` are used when you are dealing with arrays.\n",
    "\n",
    "Conditionals form the basis of how we might query data in a big array/list/dictionary, e.g.\n",
    "* give me data that are between some time period / spatial region\n",
    "* exclude data that are outliers (data with large s.d. from mean are `True` and removed from array)\n",
    "* average only fish data of some genus (only operate on data with `genus == something`)\n",
    "\n",
    "Below are some examples on manipulating numbers and strings.\n",
    "\n",
    "> NOTE: The `%` being used is called **modulo** (look up **clock arithmetic** if you are interested), and `NUMBER % 2 == 0` is essentially asking \"is NUMBER divisible by 2 with no remainder\", i.e. is this an even number."
   ]
  },
  {
   "cell_type": "code",
   "execution_count": 21,
   "metadata": {},
   "outputs": [
    {
     "name": "stdout",
     "output_type": "stream",
     "text": [
      "full array\n",
      "[ 0  1  2  3  4  5  6  7  8  9 10]\n",
      "\n",
      "divisible by 2\n",
      "[ True False  True False  True False  True False  True False  True]\n",
      "[ 0  2  4  6  8 10]\n",
      "[ 0  2  4  6  8 10]\n",
      "\n",
      "\n",
      "divisible by 5\n",
      "[ True False False False False  True False False False False  True]\n",
      "[ 0  5 10]\n",
      "\n",
      "\n",
      "divisible by 2 AND 5\n",
      "[ True False False False False False False False False False  True]\n",
      "[ 0 10]\n",
      "\n",
      "\n",
      "divisible by 2 OR 5\n",
      "[ True False  True False  True  True  True False  True False  True]\n",
      "[ 0  2  4  5  6  8 10]\n",
      "\n",
      "\n",
      "divisible by NEITHER 2 or 5\n",
      "[False  True False  True False False False  True False  True False]\n",
      "[1 3 7 9]\n",
      "\n",
      "\n",
      "as above but in another way\n",
      "[False  True False  True False False False  True False  True False]\n",
      "[1 3 7 9]\n"
     ]
    }
   ],
   "source": [
    "dummy_array = np.arange(0, 11, 1)\n",
    "print(\"full array\")\n",
    "print(dummy_array)\n",
    "\n",
    "# divisible by 2 (i.e. even number)\n",
    "print(\"\")\n",
    "print(\"divisible by 2\")\n",
    "print(dummy_array % 2 == 0)\n",
    "print(dummy_array[dummy_array % 2 == 0])\n",
    "div_by_two = (dummy_array % 2 == 0)\n",
    "print(dummy_array[div_by_two])\n",
    "\n",
    "# divisible by 5\n",
    "print()\n",
    "print(\"\")\n",
    "print(\"divisible by 5\")\n",
    "print(dummy_array % 5 == 0)\n",
    "div_by_five = (dummy_array % 5 == 0)\n",
    "print(dummy_array[div_by_five])\n",
    "\n",
    "# divisible by 2 AND 5 (so here we use & instead of AND because it is an entry-by-entry comparison)\n",
    "print()\n",
    "print(\"\")\n",
    "print(\"divisible by 2 AND 5\")\n",
    "div_by_both = (div_by_two & div_by_five)  # this is AND\n",
    "print(div_by_both)\n",
    "print(dummy_array[div_by_both])\n",
    "\n",
    "# divisible by 2 OR 5\n",
    "print()\n",
    "print(\"\")\n",
    "print(\"divisible by 2 OR 5\")\n",
    "div_by_either = (div_by_two | div_by_five)  # this is OR\n",
    "print(div_by_either)\n",
    "print(dummy_array[div_by_either])\n",
    "\n",
    "# divisible by NEITHER 2 or 5\n",
    "print()\n",
    "print(\"\")\n",
    "print(\"divisible by NEITHER 2 or 5\")\n",
    "print(~div_by_either)  # this is NOT\n",
    "print(dummy_array[~div_by_either])\n",
    "\n",
    "# note: not(A or B)  = (not A) and (not B), and similarly not(A and B) = (not A) or (not B)\n",
    "print()\n",
    "print(\"\")\n",
    "print(\"as above but in another way\")\n",
    "print(~div_by_five & ~div_by_two)  # should mean the same thing as above\n",
    "print(dummy_array[~div_by_five & ~div_by_two])"
   ]
  },
  {
   "cell_type": "code",
   "execution_count": 22,
   "metadata": {},
   "outputs": [
    {
     "name": "stdout",
     "output_type": "stream",
     "text": [
      "['never', 'gonna', 'run', 'around', 'and', 'desert', 'you']\n",
      "\n",
      "gonna\n",
      "you\n",
      ", \n",
      "you\n"
     ]
    }
   ],
   "source": [
    "# conditionals can be used on strings too\n",
    "\n",
    "dummy_dict = {\"never\" : \"gonna\",\n",
    "              \"give\"  : \"you\"  ,\n",
    "              \"up\"    : \", \"   ,\n",
    "              \"never\" : \"gonna\",\n",
    "              \"let\"   : \"you\",\n",
    "              \"down\"  : [\"never\", \"gonna\", \"run\", \"around\", \"and\", \"desert\", \"you\"]}\n",
    "\n",
    "# print if key equals to down\n",
    "for key in dummy_dict:\n",
    "    if key == \"down\":\n",
    "        print(dummy_dict[key])\n",
    "        \n",
    "# print if key is NOT equal to down\n",
    "print()\n",
    "for key in dummy_dict:\n",
    "    if key != \"down\":\n",
    "        print(dummy_dict[key])"
   ]
  },
  {
   "cell_type": "markdown",
   "metadata": {},
   "source": [
    "## WHILE conditional\n",
    "\n",
    "**While** does things while some condition is `True`, until it is no longer true. I generally don't use that because one needs to be a bit more careful to make sure you don't fall into an infinite loop (e.g. forgetting to write the `count -= 1` like I did when I first wrote the code below...)\n",
    "\n",
    "An example is given below. Here, `count -= 1` is equivalent to `count = count - 1` (things such as `+=`, `*=` and `/=` works in a similar fashion)."
   ]
  },
  {
   "cell_type": "code",
   "execution_count": 23,
   "metadata": {},
   "outputs": [
    {
     "name": "stdout",
     "output_type": "stream",
     "text": [
      "3 green bottles hanging on the wall,\n",
      "3 green bottles hanging on the wall,\n",
      "and if one green bottle should accidentally fall,\n",
      "there'll be 2 green bottles hanging on the wall\n",
      " \n",
      "2 green bottles hanging on the wall,\n",
      "2 green bottles hanging on the wall,\n",
      "and if one green bottle should accidentally fall,\n",
      "there'll be 1 green bottles hanging on the wall\n",
      " \n",
      "1 green bottles hanging on the wall,\n",
      "1 green bottles hanging on the wall,\n",
      "and if one green bottle should accidentally fall,\n",
      "there'll be no green bottles hanging on the wall\n",
      " \n"
     ]
    }
   ],
   "source": [
    "count = 3\n",
    "while count > 0:\n",
    "    print(f\"{count} green bottles hanging on the wall,\")\n",
    "    print(f\"{count} green bottles hanging on the wall,\")\n",
    "    print(f\"and if one green bottle should accidentally fall,\")\n",
    "    if count == 1:\n",
    "        print(f\"there'll be no green bottles hanging on the wall\")\n",
    "    else:\n",
    "        print(f\"there'll be {count-1} green bottles hanging on the wall\")\n",
    "    print(\" \")\n",
    "    count -= 1"
   ]
  },
  {
   "cell_type": "markdown",
   "metadata": {},
   "source": [
    "-----------------\n",
    "\n",
    "# e) Plotting\n",
    "\n",
    "Graphs are useful for displaying data. Below are some examples of how plots are done using the `matplotlib.pyplot` packages."
   ]
  },
  {
   "cell_type": "markdown",
   "metadata": {},
   "source": [
    "## Standard linear plot\n",
    "\n",
    "Generate some array, square it, and plot it out. `np.linspace(0, 1, 11)` generates in this case an array that starts at 0 and ends at 1 with 11 points (inclusive of end points) with linear spacing. `** 2` then raises the array by a power of 2 (Python operations are element-wise by default, unlike in MATLAB), and then plot it.\n",
    "\n",
    "> NOTE: For `plt.plot(x, y)`, the `x` and `y` need to have the same size, so `plt.plot(np.linspace(0, 1, 11), np.linspace(0, 1, 12))` would fail for example"
   ]
  },
  {
   "cell_type": "code",
   "execution_count": 24,
   "metadata": {},
   "outputs": [
    {
     "data": {
      "text/plain": [
       "Text(0.5, 1.0, 'a not very good graph with no axes labels etc.')"
      ]
     },
     "execution_count": 24,
     "metadata": {},
     "output_type": "execute_result"
    },
    {
     "data": {
      "image/png": "[encoded data removed]",
      "text/plain": [
       "<Figure size 640x480 with 1 Axes>"
      ]
     },
     "metadata": {},
     "output_type": "display_data"
    }
   ],
   "source": [
    "x = np.linspace(0, 1, 11)  # linear array from 0 to 1 with 11 pts\n",
    "y = x ** 2  # construct x^2, so this is going to be a parabola\n",
    "\n",
    "plt.plot(x, y)\n",
    "plt.title(r\"a not very good graph with no axes labels etc.\")"
   ]
  },
  {
   "cell_type": "markdown",
   "metadata": {},
   "source": [
    "Jazz up this graph a bit.\n",
    "\n",
    "> NOTE: Every assignments on this course have a mark for presentation, and axis labels etc. count as essential part of presentation, and marks will be deducted accordingly for absence of labels."
   ]
  },
  {
   "cell_type": "code",
   "execution_count": 25,
   "metadata": {},
   "outputs": [
    {
     "data": {
      "image/png": "[encoded data removed]",
      "text/plain": [
       "<Figure size 640x480 with 1 Axes>"
      ]
     },
     "metadata": {},
     "output_type": "display_data"
    }
   ],
   "source": [
    "# as above but more fancy\n",
    "x = np.linspace(0, 1, 11)  # linear array from 0 to 1 with 11 pts\n",
    "y = x ** 2  # construct x^2, so this is going to be a parabola\n",
    "\n",
    "plt.plot(x, y, 'r-x', linewidth=2, markersize=10)  # red line with cross markers\n",
    "plt.xlabel(r\"$x$\")\n",
    "plt.ylabel(r\"$y = x^2$\")\n",
    "plt.title(r\"Nobel prize winning graph\")\n",
    "plt.xlim([-2, 2])\n",
    "plt.ylim([-1, 2])\n",
    "plt.grid()"
   ]
  },
  {
   "cell_type": "markdown",
   "metadata": {},
   "source": [
    "Still the same as above, but in a more Pythonic way."
   ]
  },
  {
   "cell_type": "code",
   "execution_count": 26,
   "metadata": {},
   "outputs": [
    {
     "data": {
      "image/png": "[encoded data removed]",
      "text/plain": [
       "<Figure size 640x480 with 1 Axes>"
      ]
     },
     "metadata": {},
     "output_type": "display_data"
    }
   ],
   "source": [
    "# more pythonic way of doing above\n",
    "\n",
    "ax = plt.axes()  # define the axes object\n",
    "x = np.linspace(0, 1, 11)  # linear array from 0 to 1 with 11 pts\n",
    "y = x ** 2  # construct x^2, so this is going to be a parabola\n",
    "\n",
    "ax.plot(x, y, 'r-x', linewidth=2, markersize=10)\n",
    "ax.set_xlabel(r\"$x$\")\n",
    "ax.set_ylabel(r\"$y = x^2$\")\n",
    "ax.set_title(r\"Nobel prize winning graph\")\n",
    "ax.set_xlim([-2, 2])\n",
    "ax.set_ylim([-1, 2])\n",
    "ax.grid()"
   ]
  },
  {
   "cell_type": "markdown",
   "metadata": {},
   "source": [
    "Beyond the above syntax being more Pythonic, `plt` commands need to be done in order, as it operates on the last axes defined. If the axes object `ax` is defined, then ordering of operations doesn't matter since there is no ambiguity as to what the relevant command is operating on.\n",
    "\n",
    "For example, the following code words for the appropriate definitions of `ax`, but will not work as expected if all the `ax` instances are swapped out with `plt`.\n",
    "\n",
    "> NOTE: I personally don't care how you decide to do it, and you would not be marked down unless the code ends up failing or not reproducing the \"correct\" results."
   ]
  },
  {
   "cell_type": "code",
   "execution_count": 27,
   "metadata": {},
   "outputs": [
    {
     "data": {
      "image/png": "[encoded data removed]",
      "text/plain": [
       "<Figure size 1000x400 with 2 Axes>"
      ]
     },
     "metadata": {},
     "output_type": "display_data"
    }
   ],
   "source": [
    "# more pythonic way of doing above, and using subplots\n",
    "\n",
    "fig = plt.figure(figsize=(10, 4))\n",
    "ax1 = plt.subplot(1, 2, 1)  # define the axes object\n",
    "ax2 = plt.subplot(1, 2, 2)  # define the axes object\n",
    "\n",
    "# sin/cos/tan function takes in RADIANS and not DEGREEs (this is fairly generic of programming languages)\n",
    "#   (0, 360) in degrees = (0, 2 * pi) in radians\n",
    "#   could also use np.deg2rad, which converts degrees to radians\n",
    "x = np.linspace(0, 2.0 * np.pi, 31)\n",
    "y = np.sin(x)\n",
    "\n",
    "ax1.plot(x, y, 'r-x', linewidth=2, markersize=10)\n",
    "ax2.plot(x, -y, 'bo', markersize=10)  # blue, no line, circle markers\n",
    "\n",
    "ax1.set_xlabel(r\"$x$\")\n",
    "ax1.set_ylabel(r\"$y = x^2$\")\n",
    "ax2.set_xlabel(r\"$x$\")\n",
    "ax2.set_ylabel(r\"$y = -x^2$\")\n",
    "\n",
    "ax1.set_title(r\"Nobel prize winning graph\")\n",
    "ax2.set_title(r\"another Nobel prize winning graph\")\n",
    "\n",
    "ax1.set_xlim([0, 2.0 * np.pi])\n",
    "ax1.set_ylim([-1, 1])\n",
    "ax2.set_xlim([-2.0 * np.pi, 2.0 * np.pi])\n",
    "ax2.set_ylim([-1, 1])\n",
    "\n",
    "ax1.grid()"
   ]
  },
  {
   "cell_type": "markdown",
   "metadata": {},
   "source": [
    "## Log plot\n",
    "\n",
    "Plotting things on a **logarithmic** scale (look this up if you don't know what this is) is useful when your data spans a massive range, or you suspect some underlying power-law behaviour in the data. `plt.semilogy` in this case is telling Python to put the $y$-data on a logarithmic scale.\n",
    "\n",
    "> NOTE: you could also do the below by either providing an optional argument as `plt.plot(x, y, yscale=\"log\")`, or do it artificially as `plt.plot(x, np.log10(y))`, although for the latter you will have to modify the axis ticks and labels accordingly.\n",
    ">\n",
    "> The log plots by default use base 10, but you can override if you manually choose to do e.g. `plt.plot(x, np.log(y))`, which is in base $e$, and modify the ticks.\n",
    "\n",
    "For $x$-axis, do `plt.semilogx`, and for both axis, do `plt.loglog`. The analogous plots using `plt.plot` can be done."
   ]
  },
  {
   "cell_type": "code",
   "execution_count": 28,
   "metadata": {},
   "outputs": [
    {
     "data": {
      "image/png": "[encoded data removed]",
      "text/plain": [
       "<Figure size 1000x400 with 2 Axes>"
      ]
     },
     "metadata": {},
     "output_type": "display_data"
    }
   ],
   "source": [
    "x = np.linspace(0, 10.0)\n",
    "y = x**x\n",
    "\n",
    "fig = plt.figure(figsize=(10, 4))\n",
    "ax = plt.subplot(1, 2, 1)  # define the axes object\n",
    "ax.plot(x, y, 'C1-x')\n",
    "ax.set_xlabel(r\"$x$\")\n",
    "ax.set_ylabel(r\"$x^x$\")\n",
    "ax.grid()\n",
    "\n",
    "ax = plt.subplot(1, 2, 2)  # define the axes object\n",
    "ax.semilogy(x, y, 'C1-x')\n",
    "ax.set_xlabel(r\"$x$\")\n",
    "ax.set_ylabel(r\"$(x^x)$ on log scale (so really $x \\log x$)\")\n",
    "ax.grid()"
   ]
  },
  {
   "cell_type": "markdown",
   "metadata": {},
   "source": [
    "For the case below, noting that since $\\log t^n = n \\log t$, if we plot the graph on a log scale and get the gradient somehow (e.g. through linear regression in *03_regression*), then we are essentially getting at $n$. This kind of manipulation is useful if your suspect something behaves as a power law or exponential, e.g.\n",
    "\n",
    "\\begin{equation*}\n",
    "    [\\mathrm{C}_{14}] \\sim \\mathrm{e}^{-\\lambda t},\n",
    "\\end{equation*}\n",
    "\n",
    "where $[\\mathrm{C}_{14}]$ is the concentration of Carbon-14 isotope, and $\\lambda$ in this case is the half-life (you would in this case find the gradient of the appropriately logged graph)."
   ]
  },
  {
   "cell_type": "code",
   "execution_count": 29,
   "metadata": {},
   "outputs": [
    {
     "data": {
      "image/png": "[encoded data removed]",
      "text/plain": [
       "<Figure size 1000x400 with 2 Axes>"
      ]
     },
     "metadata": {},
     "output_type": "display_data"
    }
   ],
   "source": [
    "# useful to discover power-law behaviour and/or if data spans a large range\n",
    "\n",
    "t = np.linspace(0, 10.0)\n",
    "people_who_have_been_Rick_Rolled = t**7\n",
    "\n",
    "fig = plt.figure(figsize=(10, 4))\n",
    "ax = plt.subplot(1, 2, 1)  # define the axes object\n",
    "ax.plot(t, people_who_have_been_Rick_Rolled, 'C1-x')\n",
    "ax.set_xlabel(r\"$t$\")\n",
    "ax.set_ylabel(r\"Rick Rolled, $t^7$\")\n",
    "ax.grid()\n",
    "\n",
    "ax = plt.subplot(1, 2, 2)  # define the axes object\n",
    "ax.loglog(t, people_who_have_been_Rick_Rolled, 'C1-x', label=\"line with gradient 7 in logged graph\")\n",
    "ax.set_xlabel(r\"$\\log t$\")\n",
    "ax.set_ylabel(r\"log of Rick Rolled, $7t$\")\n",
    "ax.legend()\n",
    "ax.grid()"
   ]
  },
  {
   "cell_type": "markdown",
   "metadata": {},
   "source": [
    "> <span style=\"color:red\">**Q.**</span> look up some color schemes, formatting and other optional arguments on Google for matplotlib, and make your own graphs"
   ]
  },
  {
   "cell_type": "markdown",
   "metadata": {},
   "source": [
    "-----------------------\n",
    "\n",
    "# f) Subroutines (and modules)\n",
    "\n",
    "Just like you can repeat instructions within the conditionals and for loops, you can do a whole set of instructions within a **subroutine**. A subroutine is created using `def` and `:`, and again anything indented accordingly belows to the subroutine (in MATLAB or Fortran you would instead have `end function`, `end subroutine` or something similar).\n",
    "\n",
    "> NOTE: For this course I am not really going bother with creating **modules**, but the syntax is similar."
   ]
  },
  {
   "cell_type": "markdown",
   "metadata": {},
   "source": [
    "Below is an example where the subroutine takes no **arguments** (denoted by `()` in the subroutine definition), and just does something fairly trivial."
   ]
  },
  {
   "cell_type": "code",
   "execution_count": 30,
   "metadata": {},
   "outputs": [
    {
     "name": "stdout",
     "output_type": "stream",
     "text": [
      "Never gonna give you up~\n"
     ]
    }
   ],
   "source": [
    "# no argument given\n",
    "def rick_roll():\n",
    "    print(\"Never gonna give you up~\")\n",
    "    \n",
    "rick_roll()"
   ]
  },
  {
   "cell_type": "markdown",
   "metadata": {},
   "source": [
    "Below is an example where one **positional argument** is required (code will not run if you don't provide it)."
   ]
  },
  {
   "cell_type": "code",
   "execution_count": 31,
   "metadata": {},
   "outputs": [
    {
     "name": "stdout",
     "output_type": "stream",
     "text": [
      "Never gonna give you up\n",
      "Never gonna let you down\n",
      "Never gonna run around and desert you\n",
      "Never gonna make you cry\n",
      "Never gonna say goodbye\n"
     ]
    }
   ],
   "source": [
    "# only runs with specified arguments (POSITIONAL arguments)\n",
    "# note this subroutine expects an integer, if you throw something else in it will break\n",
    "def rick_roll_chorus(num):\n",
    "    \"\"\"    \n",
    "    subroutine to print out first six lines of the Rick Roll chorus\n",
    "    \n",
    "    \"\"\"\n",
    "    \n",
    "    rick_roll_lyrics = [\"Never gonna give you up\", \n",
    "                        \"Never gonna let you down\",\n",
    "                        \"Never gonna run around and desert you\",\n",
    "                        \"Never gonna make you cry\",\n",
    "                        \"Never gonna say goodbye\",\n",
    "                        \"Never gonna tell a lie and hurt you\"]\n",
    "    if num >= 7:  # example of besopke error catching of sorts\n",
    "        print(\"choose num < 6: sorry I only know up first six lines of the chorus :(\")\n",
    "    else:\n",
    "        for i in range(num):\n",
    "            print(rick_roll_lyrics[i])\n",
    "    \n",
    "rick_roll_chorus(5)"
   ]
  },
  {
   "cell_type": "markdown",
   "metadata": {},
   "source": [
    "Here is one with both positional and **optional** arguments, with a default specified."
   ]
  },
  {
   "cell_type": "code",
   "execution_count": 32,
   "metadata": {},
   "outputs": [
    {
     "name": "stdout",
     "output_type": "stream",
     "text": [
      "default is to scramble\n",
      "\n",
      "avnuoune ggepe  oNiry v\n",
      " eav eynvigunpN  goeuor\n",
      "eynou vN  uagrognveiep \n",
      " uroevynngp i eouaNeg v\n",
      "iunvvguoNp  oa rg eynee\n",
      "ayougnrNpug e v i neveo\n",
      "\n",
      "turn scrambling off\n",
      "\n",
      "Never gonna give you up\n",
      "Never gonna let you down\n",
      "Never gonna run around and desert you\n",
      "Never gonna make you cry\n",
      "Never gonna say goodbye\n",
      "Never gonna tell a lie and hurt you\n"
     ]
    }
   ],
   "source": [
    "# optional argument, pre-defined values\n",
    "def rick_roll_scramble(num, scramble=True):\n",
    "    \"\"\"\n",
    "    \n",
    "    subroutine to print out first six lines of the Rick Roll chorus\n",
    "    possibly with a shuffle of the strings\n",
    "    \n",
    "    \"\"\"\n",
    "    \n",
    "    from random import shuffle\n",
    "    \n",
    "    rick_roll_lyrics = [\"Never gonna give you up\", \n",
    "                        \"Never gonna let you down\",\n",
    "                        \"Never gonna run around and desert you\",\n",
    "                        \"Never gonna make you cry\",\n",
    "                        \"Never gonna say goodbye\",\n",
    "                        \"Never gonna tell a lie and hurt you\"]\n",
    "    if num >= 7:  # example of besopke error catching of sorts\n",
    "        print(\"choose num < 6: sorry I only know up first six lines of the chorus :(\")\n",
    "    else:\n",
    "        for i in range(num):\n",
    "            if scramble:\n",
    "                # demonstration of power of Google, I got the base code from \n",
    "                # https://stackoverflow.com/questions/6181304/are-there-any-ways-to-scramble-strings-in-python\n",
    "                # of course I had to test this out a bit first\n",
    "                word = list(rick_roll_lyrics[0])\n",
    "                shuffle(word)\n",
    "                print(\"\".join(word))\n",
    "            else:\n",
    "                print(rick_roll_lyrics[i])\n",
    "    \n",
    "print(\"default is to scramble\")\n",
    "print()\n",
    "rick_roll_scramble(6)\n",
    "print()\n",
    "print(\"turn scrambling off\")\n",
    "print()\n",
    "rick_roll_scramble(6, scramble=False)"
   ]
  },
  {
   "cell_type": "markdown",
   "metadata": {},
   "source": [
    "> NOTE: `shuffle` is only defined in the subroutine, if you try and call it in one of the Jupyter cells it ***shouldn't*** exist. The same is true for `rick_roll_lyrics`.\n",
    "\n",
    "Subroutines in this sense is useful in keeping the workspace tidy, without extra variables floating around."
   ]
  },
  {
   "cell_type": "markdown",
   "metadata": {},
   "source": [
    "The above subroutines just does things but doesn't return anything (it takes **inputs** but gives no **outputs**). Below is a more sophisticated example (see assignment 1) that does return something, via the `return` command."
   ]
  },
  {
   "cell_type": "code",
   "execution_count": 33,
   "metadata": {},
   "outputs": [
    {
     "name": "stdout",
     "output_type": "stream",
     "text": [
      "[5.00000000e-01 1.25000000e-01 5.46875000e-02 2.58483887e-02\n",
      " 1.25901247e-02 6.21580675e-03 3.08858525e-03 1.53952294e-03\n",
      " 7.68576407e-04 3.83992848e-04 1.91922699e-04 9.59429323e-05\n",
      " 4.79668636e-05 2.39822814e-05 1.19908531e-05 5.99535468e-06\n",
      " 2.99765937e-06 1.49882519e-06 7.49411472e-07 3.74705455e-07\n",
      " 1.87352657e-07 9.36763111e-08 4.68381512e-08 2.34190745e-08\n",
      " 1.17095370e-08 5.85476842e-09 2.92738419e-09 1.46369209e-09\n",
      " 7.31846044e-10 3.65923022e-10 1.82961511e-10 9.14807554e-11\n",
      " 4.57403777e-11 2.28701889e-11 1.14350944e-11 5.71754721e-12\n",
      " 2.85877361e-12 1.42938680e-12 7.14693402e-13 3.57346701e-13\n",
      " 1.78673350e-13 8.93366752e-14 4.46683376e-14 2.23341688e-14\n",
      " 1.11670844e-14 5.58354220e-15 2.79177110e-15 1.39588555e-15\n",
      " 6.97942775e-16 3.48971388e-16 1.74485694e-16 8.72428469e-17\n",
      " 4.36214234e-17 2.18107117e-17 1.09053559e-17 5.45267793e-18\n",
      " 2.72633897e-18 1.36316948e-18 6.81584741e-19 3.40792371e-19\n",
      " 1.70396185e-19 8.51980927e-20 4.25990463e-20 2.12995232e-20\n",
      " 1.06497616e-20 5.32488079e-21 2.66244040e-21 1.33122020e-21\n",
      " 6.65610099e-22 3.32805049e-22 1.66402525e-22 8.32012624e-23\n",
      " 4.16006312e-23 2.08003156e-23 1.04001578e-23 5.20007890e-24\n",
      " 2.60003945e-24 1.30001972e-24 6.50009862e-25 3.25004931e-25\n",
      " 1.62502466e-25 8.12512328e-26 4.06256164e-26 2.03128082e-26\n",
      " 1.01564041e-26 5.07820205e-27 2.53910102e-27 1.26955051e-27\n",
      " 6.34775256e-28 3.17387628e-28 1.58693814e-28 7.93469070e-29\n",
      " 3.96734535e-29 1.98367268e-29 9.91836338e-30 4.95918169e-30\n",
      " 2.47959084e-30 1.23979542e-30 6.19897711e-31 3.09948856e-31\n",
      " 1.54974428e-31]\n"
     ]
    }
   ],
   "source": [
    "# returning something\n",
    "def logistic_map(x0, r, generation=100):\n",
    "    \"\"\"\n",
    "    \n",
    "    subroutine to iterate on the logistic map\n",
    "    \n",
    "    x(n+1) = r * x(n) * (1.0 - x(n)) = r * x(n) - r * x(n)**2,\n",
    "    \n",
    "    which is a simple model for population growth (r * x(n)) and death (- r * x(n)**2)\n",
    "      \n",
    "    returns an array, need to specify \n",
    "        initial condition x0 (between 0 and 1, interpreted as a population percentage)\n",
    "        ratio r (any positive number really)\n",
    "    \n",
    "    optional argument\n",
    "        number of generations (default is 100)\n",
    "    \n",
    "    \"\"\"\n",
    "    \n",
    "    x_out = np.zeros(generation+1)\n",
    "    x_out[0] = x0\n",
    "    for i in range(generation):\n",
    "        x_out[i+1] = r * x_out[i] * (1.0 - x_out[i])\n",
    "\n",
    "    return x_out\n",
    "\n",
    "x_init = 0.5\n",
    "arr = 0.5\n",
    "x_out = logistic_map(x_init, arr)\n",
    "print(x_out)"
   ]
  },
  {
   "cell_type": "markdown",
   "metadata": {},
   "source": [
    "In this sense subroutines are also useful if you need to repeatedly do a set of instructions over and over again. You don't need to re-run the subroutine cell again to call the routine, because it is there until you refresh the memory. For example, I can re-run the above logistic map routine twice, call the output two different things, and compare what they look like."
   ]
  },
  {
   "cell_type": "code",
   "execution_count": 34,
   "metadata": {},
   "outputs": [
    {
     "data": {
      "image/png": "[encoded data removed]",
      "text/plain": [
       "<Figure size 500x400 with 1 Axes>"
      ]
     },
     "metadata": {},
     "output_type": "display_data"
    }
   ],
   "source": [
    "# two different runs of the logistic map\n",
    "\n",
    "out1 = logistic_map(0.5, 0.5)\n",
    "\n",
    "out2 = logistic_map(0.5, 1.5)\n",
    "\n",
    "fig = plt.figure(figsize=(5, 4))\n",
    "ax = plt.axes()\n",
    "ax.plot(out1, 'C2-o')  # by default, not specifying the x in plt.plot(x,y) takes index as the x\n",
    "ax.plot(out2, 'C3-x')\n",
    "ax.set_xlabel(r\"generation\")\n",
    "ax.set_ylabel(r\"population ratio\")\n",
    "ax.set_ylim([-0.1, 1])\n",
    "ax.set_title(f\"sample logistic map output\")\n",
    "ax.grid()"
   ]
  },
  {
   "cell_type": "markdown",
   "metadata": {},
   "source": [
    "You can combine for loops and subroutines to do sweeps, like the one below. \n",
    "\n",
    "> NOTE: Before you run it, have a think what each of the commands are doing, and what the overall code is doing."
   ]
  },
  {
   "cell_type": "code",
   "execution_count": 35,
   "metadata": {},
   "outputs": [
    {
     "data": {
      "image/png": "[encoded data removed]",
      "text/plain": [
       "<Figure size 1000x400 with 1 Axes>"
      ]
     },
     "metadata": {},
     "output_type": "display_data"
    }
   ],
   "source": [
    "# semi-randomly chosen numbers for r\n",
    "r_vec = [0.5, 1.5, 2.0, 3.0, 3.5, 3.569]                       \n",
    "generation = 50\n",
    "x0 = 0.5\n",
    "x_out_r_sweep = np.zeros((len(r_vec), generation + 1))  # pre-define array to dump output into\n",
    "\n",
    "for k in range(len(r_vec)):\n",
    "    r = r_vec[k]\n",
    "    x_out_r_sweep[k, :] = logistic_map(x0, r, generation=generation)  # this is python syntax and allowed\n",
    "\n",
    "fig = plt.figure(figsize=(10, 4))\n",
    "ax = plt.axes()\n",
    "lines = []\n",
    "for k in range(len(r_vec)):\n",
    "    r = r_vec[k]\n",
    "    lines += ax.plot(x_out_r_sweep[k, :], label=f\"$r = {r:.3f}$\")\n",
    "ax.set_xlabel(r\"generation\")\n",
    "ax.set_ylabel(r\"population ratio\")\n",
    "ax.set_ylim([-0.1, 1.2])\n",
    "ax.set_title(f\"sample logistic map output\")\n",
    "ax.legend()\n",
    "ax.grid()"
   ]
  },
  {
   "cell_type": "markdown",
   "metadata": {},
   "source": [
    "--------------------------------------\n",
    "\n",
    "# More involved exercises with this notebook\n",
    "\n",
    "## 1) Logistic map\n",
    "\n",
    "The [logistic map](https://en.wikipedia.org/wiki/Logistic_map) coded above is given mathematically by\n",
    "\n",
    "\\begin{equation*}\n",
    "    x_{n+1} = r x_n (1 - x_n) = r x_n - r x_n^2,\n",
    "\\end{equation*}\n",
    "\n",
    "where $x_n\\in[0, 1]$ should be interpreted as the proportion of maximum population allowable (but whatever constraints relevant to the system), and $r$ is some parameter. The equation is saying that the population at the next generation is affected by (linear) growth ($r x_n$) and (quadratic) death ($-r x_n^2$).\n",
    "\n",
    "Using the provided subroutine, investigate numerically the behaviour of the logistic map outputs as you change the parameters. The $r$ parameter is probably the most interesting one, but try messing around with the initial population size too (e.g. beyond the region of validity). Investigate:\n",
    "\n",
    "* When do the population completely die off?\n",
    "* When do they NOT die off and asymptote to something (and asymptote to what)?\n",
    "* Do you get oscillatory behaviour, and when?\n",
    "  * Does the period of oscillation depend on the choice of $r$?\n",
    "* Do you get more exotic oscillatory behaviour, and when?\n",
    "* Do you get *chaotic*/random behaviour?\n",
    "\n",
    "Google and Wikipedia are your friend here.\n",
    "\n",
    "Plot some graphs and write some descriptive things say in a new Jupyter notebook format to present your findings. This would be useful practice for how Jupyter and Python works (particularly the plotting), and is related to the first assignment somewhat."
   ]
  },
  {
   "cell_type": "code",
   "execution_count": null,
   "metadata": {},
   "outputs": [],
   "source": []
  },
  {
   "cell_type": "markdown",
   "metadata": {},
   "source": [
    "\n",
    "\n",
    "## 2) Fisher equation (cf. FKPP equations)\n",
    "\n",
    "This is the [Ronald Fisher](https://en.wikipedia.org/wiki/Ronald_Fisher), not to be confused with the economist [Irving Fisher](https://en.wikipedia.org/wiki/Irving_Fisher).\n",
    "\n",
    "Could serve as a model for phytoplankton growth. Modify the subroutine for the logistic map so that you have\n",
    "\n",
    "\\begin{equation*}\n",
    "    x_{n+1} = a x_n - b x_n^2,\n",
    "\\end{equation*}\n",
    "\n",
    "and do an analogous investigation to the above. (This particular equation is actually less interesting in a sense, but quantify what I actually mean here with plots etc.)"
   ]
  },
  {
   "cell_type": "code",
   "execution_count": null,
   "metadata": {},
   "outputs": [],
   "source": []
  },
  {
   "cell_type": "code",
   "execution_count": null,
   "metadata": {},
   "outputs": [],
   "source": []
  }
 ],
 "metadata": {
  "kernelspec": {
   "display_name": "Python 3 (ipykernel)",
   "language": "python",
   "name": "python3"
  },
  "language_info": {
   "codemirror_mode": {
    "name": "ipython",
    "version": 3
   },
   "file_extension": ".py",
   "mimetype": "text/x-python",
   "name": "python",
   "nbconvert_exporter": "python",
   "pygments_lexer": "ipython3",
   "version": "3.11.11"
  },
  "latex_envs": {
   "LaTeX_envs_menu_present": true,
   "autoclose": false,
   "autocomplete": true,
   "bibliofile": "biblio.bib",
   "cite_by": "apalike",
   "current_citInitial": 1,
   "eqLabelWithNumbers": true,
   "eqNumInitial": 1,
   "hotkeys": {
    "equation": "Ctrl-E",
    "itemize": "Ctrl-I"
   },
   "labels_anchors": false,
   "latex_user_defs": false,
   "report_style_numbering": false,
   "user_envs_cfg": false
  }
 },
 "nbformat": 4,
 "nbformat_minor": 4
}
