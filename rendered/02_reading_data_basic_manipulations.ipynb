{
 "cells": [
  {
   "cell_type": "markdown",
   "metadata": {},
   "source": [
    "*updated 18 Jan 2025, Julian Mak (whatever with copyright, do what you want with this)\n",
    "\n",
    "### As part of material for OCES 3301 \"Data Analysis in Ocean Sciences\" delivered at HKUST\n",
    "\n",
    "For the latest version of the material, go to the public facing [GitHub](https://github.com/julianmak/academic-notes/tree/master/OCES3301_data_analysis_ocean) page."
   ]
  },
  {
   "cell_type": "code",
   "execution_count": 1,
   "metadata": {},
   "outputs": [],
   "source": [
    "# load some default packages\n",
    "import matplotlib.pyplot as plt\n",
    "import numpy as np\n",
    "import urllib"
   ]
  },
  {
   "cell_type": "markdown",
   "metadata": {},
   "source": [
    "# 02: Python data reading and some data manipulation\n",
    "\n",
    "While a good portion of this course uses data generated on the fly (e.g. see *assignment 1* and some samples from last session), \"real\" data is usually obtained from observations / numerical experiments / lab work that may be costly or not worthwhile repeating. Data is usually stored somewhere, and we want to be able to read it in order to do something with it.\n",
    "\n",
    "Most data we are going to deal with here are going to be **text** format (e.g. with the *txt* or *csv* extension, though sometimes no extension at all), and towards the end of the course we are going to start reading some **binary** format data (in this case in the [netCDF](https://pro.arcgis.com/en/pro-app/latest/help/data/multidimensional/what-is-netcdf-data.htm) format, which is common in geophysical data). This is of course only representative, and while the reading commands might change, the analysis part should be largely similar."
   ]
  },
  {
   "cell_type": "markdown",
   "metadata": {},
   "source": [
    "Before we go on and as promised in the previous session, here is a picture of the cursed frog:\n",
    "\n",
    "<img src=\"https://i.imgur.com/5qhT8OK.jpg\" width=\"400\" alt='cursed frog'>"
   ]
  },
  {
   "cell_type": "markdown",
   "metadata": {},
   "source": [
    "--------------------\n",
    "\n",
    "# a) Reading text-based data\n",
    "\n",
    "Python natively will read text files. The file I made is in `rick_roll.txt`, which you could try and read it outside of Python (it's just a text file, so something like notepad will do it). To read it in Python, here are the somewhat old-fashioned (but very robust) commands you can do.\n",
    "\n",
    "> NOTE: By default in this course I will be loading data \"remotely\", and this requires an internet connection."
   ]
  },
  {
   "cell_type": "code",
   "execution_count": 2,
   "metadata": {},
   "outputs": [
    {
     "name": "stdout",
     "output_type": "stream",
     "text": [
      "loading data remotely\n",
      "<http.client.HTTPResponse object at 0x7f02580bda30>\n"
     ]
    }
   ],
   "source": [
    "option = \"remote\"\n",
    "\n",
    "if option == \"local\":\n",
    "    print(\"loading data locally (assumes file has already been downloaded)\")\n",
    "    f = open(\"rick_roll.txt\", \"r\") # r/w/a = read/write/append, so here is \"read only\"\n",
    "elif option == \"remote\":\n",
    "    print(\"loading data remotely\")\n",
    "    path = \"https://raw.githubusercontent.com/julianmak/OCES3301_data_analysis/refs/heads/main/rick_roll.txt\"\n",
    "    f = urllib.request.urlopen(path)\n",
    "else:\n",
    "    raise ValueError(\"INVALID OPTION: use 'remote' or 'local'\")\n",
    "\n",
    "print(f)\n",
    "\n",
    "f.close()  # remember to close the file otherwise weird things might happen..."
   ]
  },
  {
   "cell_type": "markdown",
   "metadata": {},
   "source": [
    "So notice here none of the contents of the file actually got print to screen, because what is going on here is that a **pointer** (in this case the variable `txt_file`) is made to the file, providing an access point of sorts to do things to the file, until it is closed (through `txt_file.close()`). So no reading was actually done because no reading commands were actually issued, which in this case is done with `txt_file.readlines()`."
   ]
  },
  {
   "cell_type": "code",
   "execution_count": 3,
   "metadata": {},
   "outputs": [
    {
     "name": "stdout",
     "output_type": "stream",
     "text": [
      "loading data remotely\n",
      "[\"We're no strangers to love\", 'You know the rules and so do I', \"A full commitment's what I'm thinking of\", \"You wouldn't get this from any other guy\", '', \"I just wanna tell you how I'm feeling\", 'Gotta make you understand', '', 'Never gonna give you up', 'Never gonna let you down', 'Never gonna run around and desert you', 'Never gonna make you cry', 'Never gonna say goodbye', 'Never gonna tell a lie and hurt you', '', \"We've known each other for so long\", \"Your heart's been aching but you're too shy to say it\", \"Inside we both know what's been going on\", \"We know the game and we're gonna play it\", '', \"And if you ask me how I'm feeling\", \"Don't tell me you're too blind to see\", '', 'Never gonna give you up', 'Never gonna let you down', 'Never gonna run around and desert you', 'Never gonna make you cry', 'Never gonna say goodbye', 'Never gonna tell a lie and hurt you', 'Never gonna give you up', 'Never gonna let you down', 'Never gonna run around and desert you', 'Never gonna make you cry', 'Never gonna say goodbye', 'Never gonna tell a lie and hurt you', '', 'Never gonna give, never gonna give', '(Give you up)', '', \"We've known each other for so long\", \"Your heart's been aching but you're too shy to say it\", \"Inside we both know what's been going on\", \"We know the game and we're gonna play it\", '', \"I just wanna tell you how I'm feeling\", 'Gotta make you understand', '', 'Never gonna give you up', 'Never gonna let you down', 'Never gonna run around and desert you', 'Never gonna make you cry', 'Never gonna say goodbye', 'Never gonna tell a lie and hurt you', '', 'Never gonna give you up', 'Never gonna let you down', 'Never gonna run around and desert you', 'Never gonna make you cry', 'Never gonna say goodbye', 'Never gonna tell a lie and hurt you', '', 'Never gonna give you up', 'Never gonna let you down', 'Never gonna run around and desert you', 'Never gonna make you cry', 'Never gonna say goodbye']\n"
     ]
    }
   ],
   "source": [
    "option = \"remote\"\n",
    "\n",
    "if option == \"local\":\n",
    "    print(\"loading data locally (assumes file has already been downloaded)\")\n",
    "    f = open(\"rick_roll.txt\", \"r\") # r/w/a = read/write/append, so here is \"read only\"\n",
    "elif option == \"remote\":\n",
    "    print(\"loading data remotely\")\n",
    "    path = \"https://raw.githubusercontent.com/julianmak/OCES3301_data_analysis/refs/heads/main/rick_roll.txt\"\n",
    "    f = urllib.request.urlopen(path)\n",
    "else:\n",
    "    raise ValueError(\"INVALID OPTION: use 'remote' or 'local'\")\n",
    "\n",
    "txt_src = f.readlines()\n",
    "\n",
    "f.close()  # remember to close the file otherwise weird things might happen...\n",
    "\n",
    "for k in range(len(txt_src)):\n",
    "    if type(txt_src[k]) == str:\n",
    "        txt_src[k] = txt_src[k].strip(\"\\n\")\n",
    "    elif type(txt_src[k]) == bytes:\n",
    "        txt_src[k] = txt_src[k].decode(\"utf-8\").strip(\"\\n\")\n",
    "\n",
    "print(txt_src)"
   ]
  },
  {
   "cell_type": "markdown",
   "metadata": {},
   "source": [
    "> NOTE: `readlines()` is a routine associated to the `txt_file` object, and `txt_file.readlines()` here is saying use the readlines command on itself. The reason for this kind of arrangement (called **object oriented programming**) is that in principle you pack the data together with the routines, so for example you can avoid calling routines to act on stuff that the routine was never designed for (e.g. the computer doesn't necessarily understand what calculating the variance means for a string?) Python is an **object-oriented** language.\n",
    "\n",
    "Note that we closed the pointer to the file so references to `txt_file` should no longer work, but the data has been dumped out to `txt_src`, which is now the list of strings we can play with.\n",
    "\n",
    "> NOTE: I stripped out the `\\n` already (it stands for \"new line\"), with the `.strip` command."
   ]
  },
  {
   "cell_type": "code",
   "execution_count": 4,
   "metadata": {},
   "outputs": [
    {
     "name": "stdout",
     "output_type": "stream",
     "text": [
      "We're no strangers to love\n",
      "You know the rules and so do I\n",
      "A full commitment's what I'm thinking of\n",
      "You wouldn't get this from any other guy\n",
      "\n",
      "I just wanna tell you how I'm feeling\n",
      "Gotta make you understand\n",
      "\n",
      "Never gonna give you up\n",
      "Never gonna let you down\n",
      "Never gonna run around and desert you\n",
      "Never gonna make you cry\n",
      "Never gonna say goodbye\n",
      "Never gonna tell a lie and hurt you\n",
      "\n",
      "We've known each other for so long\n",
      "Your heart's been aching but you're too shy to say it\n",
      "Inside we both know what's been going on\n",
      "We know the game and we're gonna play it\n",
      "\n",
      "And if you ask me how I'm feeling\n",
      "Don't tell me you're too blind to see\n",
      "\n",
      "Never gonna give you up\n",
      "Never gonna let you down\n",
      "Never gonna run around and desert you\n",
      "Never gonna make you cry\n",
      "Never gonna say goodbye\n",
      "Never gonna tell a lie and hurt you\n",
      "Never gonna give you up\n",
      "Never gonna let you down\n",
      "Never gonna run around and desert you\n",
      "Never gonna make you cry\n",
      "Never gonna say goodbye\n",
      "Never gonna tell a lie and hurt you\n",
      "\n",
      "Never gonna give, never gonna give\n",
      "(Give you up)\n",
      "\n",
      "We've known each other for so long\n",
      "Your heart's been aching but you're too shy to say it\n",
      "Inside we both know what's been going on\n",
      "We know the game and we're gonna play it\n",
      "\n",
      "I just wanna tell you how I'm feeling\n",
      "Gotta make you understand\n",
      "\n",
      "Never gonna give you up\n",
      "Never gonna let you down\n",
      "Never gonna run around and desert you\n",
      "Never gonna make you cry\n",
      "Never gonna say goodbye\n",
      "Never gonna tell a lie and hurt you\n",
      "\n",
      "Never gonna give you up\n",
      "Never gonna let you down\n",
      "Never gonna run around and desert you\n",
      "Never gonna make you cry\n",
      "Never gonna say goodbye\n",
      "Never gonna tell a lie and hurt you\n",
      "\n",
      "Never gonna give you up\n",
      "Never gonna let you down\n",
      "Never gonna run around and desert you\n",
      "Never gonna make you cry\n",
      "Never gonna say goodbye\n"
     ]
    }
   ],
   "source": [
    "for i in range(len(txt_src)):\n",
    "    print(txt_src[i])"
   ]
  },
  {
   "cell_type": "markdown",
   "metadata": {},
   "source": [
    "We could replace things in a string:"
   ]
  },
  {
   "cell_type": "code",
   "execution_count": 5,
   "metadata": {},
   "outputs": [
    {
     "data": {
      "text/plain": [
       "'Always gonna say goodbye'"
      ]
     },
     "execution_count": 5,
     "metadata": {},
     "output_type": "execute_result"
    }
   ],
   "source": [
    "txt_src[-1].replace(\"Never\", \"Always\")"
   ]
  },
  {
   "cell_type": "markdown",
   "metadata": {},
   "source": [
    "> <span style=\"color:red\">**Q.**</span> what is the `-1`?"
   ]
  },
  {
   "cell_type": "markdown",
   "metadata": {},
   "source": [
    "Writing to a file is similar: we open a pointer (this time with `w` for read), use the pointers `.write()` command to write a line, and when we are done, close it.\n",
    "\n",
    "> NOTE: you need the `\\n` to tell Python to write a new line. Here I did this by adding `\\n` to every line being written.\n",
    "\n",
    "Writing would generally be useful for example if there is some data you analysed, and re-running the code will take a while, or you want to share the processed results with someone."
   ]
  },
  {
   "cell_type": "code",
   "execution_count": 6,
   "metadata": {},
   "outputs": [],
   "source": [
    "txt_file = open(\"rick_roll_troll.txt\", \"w\")\n",
    "for i in range(len(txt_src)):\n",
    "    txt_file.write(txt_src[i].replace(\"Never\", \"Always\") + \"\\n\") \n",
    "txt_file.close()"
   ]
  },
  {
   "cell_type": "markdown",
   "metadata": {},
   "source": [
    "> <span style=\"color:red\">**Q.**</span> what is the above code doing?"
   ]
  },
  {
   "cell_type": "markdown",
   "metadata": {},
   "source": [
    "The code below provides an alternative way to opening a file that closes it immediate after reading, through the `with` command."
   ]
  },
  {
   "cell_type": "code",
   "execution_count": 7,
   "metadata": {},
   "outputs": [
    {
     "name": "stdout",
     "output_type": "stream",
     "text": [
      "We're no strangers to love\n",
      "You know the rules and so do I\n",
      "A full commitment's what I'm thinking of\n",
      "You wouldn't get this from any other guy\n",
      "\n",
      "I just wanna tell you how I'm feeling\n",
      "Gotta make you understand\n",
      "\n",
      "Always gonna give you up\n",
      "Always gonna let you down\n",
      "Always gonna run around and desert you\n",
      "Always gonna make you cry\n",
      "Always gonna say goodbye\n",
      "Always gonna tell a lie and hurt you\n",
      "\n",
      "We've known each other for so long\n",
      "Your heart's been aching but you're too shy to say it\n",
      "Inside we both know what's been going on\n",
      "We know the game and we're gonna play it\n",
      "\n",
      "And if you ask me how I'm feeling\n",
      "Don't tell me you're too blind to see\n",
      "\n",
      "Always gonna give you up\n",
      "Always gonna let you down\n",
      "Always gonna run around and desert you\n",
      "Always gonna make you cry\n",
      "Always gonna say goodbye\n",
      "Always gonna tell a lie and hurt you\n",
      "Always gonna give you up\n",
      "Always gonna let you down\n",
      "Always gonna run around and desert you\n",
      "Always gonna make you cry\n",
      "Always gonna say goodbye\n",
      "Always gonna tell a lie and hurt you\n",
      "\n",
      "Always gonna give, never gonna give\n",
      "(Give you up)\n",
      "\n",
      "We've known each other for so long\n",
      "Your heart's been aching but you're too shy to say it\n",
      "Inside we both know what's been going on\n",
      "We know the game and we're gonna play it\n",
      "\n",
      "I just wanna tell you how I'm feeling\n",
      "Gotta make you understand\n",
      "\n",
      "Always gonna give you up\n",
      "Always gonna let you down\n",
      "Always gonna run around and desert you\n",
      "Always gonna make you cry\n",
      "Always gonna say goodbye\n",
      "Always gonna tell a lie and hurt you\n",
      "\n",
      "Always gonna give you up\n",
      "Always gonna let you down\n",
      "Always gonna run around and desert you\n",
      "Always gonna make you cry\n",
      "Always gonna say goodbye\n",
      "Always gonna tell a lie and hurt you\n",
      "\n",
      "Always gonna give you up\n",
      "Always gonna let you down\n",
      "Always gonna run around and desert you\n",
      "Always gonna make you cry\n",
      "Always gonna say goodbye\n"
     ]
    }
   ],
   "source": [
    "with open(\"rick_roll_troll.txt\", \"r\") as f:\n",
    "    mod_txt = f.readlines()\n",
    "for line in range(len(mod_txt)):\n",
    "    print(mod_txt[line].replace(\"\\n\", \"\"))"
   ]
  },
  {
   "cell_type": "markdown",
   "metadata": {},
   "source": [
    "--------------\n",
    "\n",
    "# b) Reading numeric data but in text format\n",
    "\n",
    "Lets try a slightly less stupid example but one that highlights some generic things to watch out for. The (text) file `elnino34_sst.data` contains sea surface temperature (SST) data over the El-Nino 3.4 region.\n",
    "\n",
    "> NOTE: if you don't know what El-Nino is, go to Wikipedia, OCES 2003 notes, or ENVS 3004 / OCES 4001 notes\n",
    "\n",
    "Lets just open it and see what it contains."
   ]
  },
  {
   "cell_type": "code",
   "execution_count": 8,
   "metadata": {},
   "outputs": [
    {
     "name": "stdout",
     "output_type": "stream",
     "text": [
      "loading data remotely\n"
     ]
    },
    {
     "data": {
      "text/plain": [
       "['        1948        2019',\n",
       " ' 1948 -99.99 -99.99 -99.99 -99.99 -99.99 -99.99 -99.99 -99.99 -99.99 -99.99 -99.99 -99.99',\n",
       " ' 1949 -99.99 -99.99 -99.99 -99.99 -99.99 -99.99 -99.99 -99.99 -99.99 -99.99 -99.99 -99.99',\n",
       " ' 1950  24.55  25.06  25.87  26.28  26.18  26.46  26.29  25.88  25.74  25.69  25.47  25.29',\n",
       " ' 1951  25.24  25.71  26.90  27.58  27.92  27.73  27.60  27.02  27.23  27.20  27.25  26.91',\n",
       " ' 1952  26.67  26.74  27.17  27.80  27.79  27.18  26.53  26.30  26.36  26.26  25.92  26.21',\n",
       " ' 1953  26.74  27.00  27.57  28.04  28.28  28.12  27.43  26.94  27.01  26.87  26.88  27.00',\n",
       " ' 1954  26.98  27.03  26.90  26.64  27.12  26.80  26.11  25.43  25.12  25.23  25.57  25.26',\n",
       " ' 1955  25.61  25.81  26.22  26.60  26.66  26.55  26.15  25.51  25.28  24.41  24.25  24.57',\n",
       " ' 1956  25.34  25.76  26.46  26.85  27.13  26.81  26.23  25.68  25.73  25.75  25.56  25.71',\n",
       " ' 1957  26.04  26.54  27.46  28.23  28.55  28.36  28.17  27.69  27.44  27.42  27.62  27.90',\n",
       " ' 1958  28.33  28.24  28.27  28.27  28.31  27.99  27.32  26.85  26.40  26.45  26.75  26.62',\n",
       " ' 1959  27.07  27.18  27.47  27.88  27.70  27.37  26.44  26.09  25.92  26.24  26.04  26.18',\n",
       " ' 1960  26.27  26.29  26.98  27.49  27.68  27.24  26.88  26.70  26.44  26.22  26.26  26.22',\n",
       " ' 1961  26.23  26.56  26.94  27.36  27.75  27.67  26.89  26.19  25.78  25.71  26.07  25.97',\n",
       " ' 1962  25.96  26.19  26.80  27.13  27.05  27.08  26.76  26.33  25.94  25.97  25.75  25.67',\n",
       " ' 1963  25.77  26.22  27.18  27.78  27.63  27.62  27.78  27.48  27.40  27.36  27.47  27.62',\n",
       " ' 1964  27.34  27.13  27.02  26.95  26.82  26.59  26.33  25.60  25.32  25.37  25.26  25.23',\n",
       " ' 1965  25.66  26.19  26.94  27.38  27.99  28.09  27.90  27.97  28.01  28.17  28.12  27.96',\n",
       " ' 1966  27.67  27.55  28.21  28.16  27.55  27.64  27.33  26.48  26.27  26.22  26.23  26.03',\n",
       " ' 1967  25.88  26.11  26.50  26.74  27.35  27.47  26.97  26.44  25.86  25.97  26.08  25.95',\n",
       " ' 1968  25.69  25.68  26.33  27.10  27.19  27.88  27.58  27.01  26.72  26.75  27.20  27.27',\n",
       " ' 1969  27.50  27.86  27.82  28.13  28.29  27.69  27.08  27.02  27.15  27.34  27.10  26.98',\n",
       " ' 1970  26.83  26.95  27.14  27.74  27.63  27.04  26.21  25.60  25.65  25.60  25.57  25.27',\n",
       " ' 1971  24.81  25.18  25.92  26.63  26.95  26.60  26.13  25.75  25.72  25.47  25.56  25.37',\n",
       " ' 1972  25.62  26.30  27.09  27.89  28.32  28.18  28.14  27.95  27.95  28.26  28.61  28.69',\n",
       " ' 1973  28.34  27.95  27.55  27.24  26.96  26.55  25.76  25.22  25.06  24.73  24.33  24.33',\n",
       " ' 1974  24.46  25.10  25.84  26.46  26.64  26.53  26.39  26.33  26.08  25.78  25.61  25.63',\n",
       " ' 1975  26.09  26.07  26.19  26.86  26.80  26.23  25.90  25.33  25.05  24.89  25.05  24.67',\n",
       " ' 1976  24.54  25.49  26.46  26.88  27.20  27.35  27.13  26.98  27.02  27.46  27.41  27.09',\n",
       " ' 1977  27.32  27.13  27.47  27.44  27.72  27.74  27.38  26.85  27.12  27.35  27.19  27.29',\n",
       " ' 1978  27.17  27.00  27.09  27.12  27.20  27.02  26.74  26.07  26.01  26.25  26.33  26.54',\n",
       " ' 1979  26.41  26.53  27.27  27.83  27.69  27.43  26.82  26.75  26.99  26.83  26.99  27.11',\n",
       " ' 1980  27.08  26.97  27.31  27.75  28.01  27.94  27.23  26.48  26.44  26.46  26.60  26.65',\n",
       " ' 1981  26.18  26.11  26.64  27.29  27.36  27.27  26.65  26.33  26.53  26.42  26.29  26.40',\n",
       " ' 1982  26.67  26.59  27.41  28.03  28.39  28.26  27.66  27.58  28.21  28.71  28.62  28.80',\n",
       " ' 1983  28.89  28.69  28.66  28.77  28.84  28.27  27.18  26.59  26.20  25.56  25.41  25.57',\n",
       " ' 1984  25.88  26.56  26.77  27.14  27.20  26.83  26.79  26.61  26.38  26.04  25.52  25.25',\n",
       " ' 1985  25.38  26.03  26.50  26.64  26.90  26.81  26.56  26.30  26.02  26.23  26.33  26.19',\n",
       " ' 1986  25.89  26.05  26.87  27.49  27.40  27.42  27.18  27.17  27.24  27.53  27.71  27.72',\n",
       " ' 1987  27.68  27.88  28.27  28.39  28.56  28.65  28.59  28.42  28.36  27.96  27.77  27.54',\n",
       " ' 1988  27.45  27.03  27.38  27.38  26.68  25.99  25.56  25.66  25.72  24.82  24.65  24.63',\n",
       " ' 1989  24.58  25.28  26.08  26.74  27.06  27.14  26.72  26.33  26.42  26.32  26.25  26.46',\n",
       " ' 1990  26.56  26.96  27.33  27.90  28.02  27.64  27.38  27.07  26.94  26.93  26.81  26.95',\n",
       " ' 1991  27.03  27.07  27.32  28.01  28.20  28.25  28.05  27.53  27.14  27.58  27.90  28.29',\n",
       " ' 1992  28.38  28.53  28.66  29.02  28.98  28.30  27.51  26.91  26.65  26.42  26.42  26.44',\n",
       " ' 1993  26.69  27.16  27.67  28.41  28.71  28.08  27.52  26.99  27.07  26.77  26.71  26.76',\n",
       " ' 1994  26.64  26.81  27.39  28.08  28.24  28.04  27.54  27.38  27.20  27.47  27.81  27.85',\n",
       " ' 1995  27.57  27.49  27.75  28.10  27.82  27.59  27.08  26.23  25.88  25.84  25.60  25.65',\n",
       " ' 1996  25.69  25.89  26.67  27.35  27.55  27.29  26.85  26.64  26.27  26.27  26.29  25.95',\n",
       " ' 1997  26.01  26.38  27.04  27.98  28.58  28.82  28.86  28.75  28.85  29.08  29.12  28.89',\n",
       " ' 1998  28.93  28.78  28.62  28.60  28.51  27.34  26.30  25.57  25.46  25.25  25.24  24.91',\n",
       " ' 1999  24.86  25.43  26.33  26.70  26.79  26.53  26.13  25.63  25.63  25.48  25.12  24.86',\n",
       " ' 2000  24.78  25.21  26.30  26.95  27.07  26.94  26.63  26.37  26.20  26.02  25.92  25.68',\n",
       " ' 2001  25.81  26.12  26.80  27.33  27.60  27.54  27.25  26.80  26.52  26.57  26.33  26.19',\n",
       " ' 2002  26.39  26.71  27.29  27.84  28.24  28.44  28.03  27.72  27.81  27.96  28.17  27.97',\n",
       " ' 2003  27.15  27.39  27.65  27.68  27.32  27.44  27.50  27.11  26.99  27.14  27.04  27.03',\n",
       " ' 2004  26.81  26.98  27.40  27.89  28.00  27.86  27.78  27.62  27.53  27.44  27.36  27.34',\n",
       " ' 2005  27.21  27.11  27.73  28.08  28.24  27.77  27.06  26.80  26.68  26.65  26.11  25.68',\n",
       " ' 2006  25.63  26.08  26.57  27.50  27.85  27.73  27.30  27.16  27.32  27.41  27.69  27.74',\n",
       " ' 2007  27.24  26.88  27.10  27.50  27.46  27.37  26.71  26.14  25.61  25.32  25.17  25.01',\n",
       " ' 2008  24.86  25.08  26.07  26.83  27.09  27.04  26.99  26.72  26.47  26.37  26.25  25.74',\n",
       " ' 2009  25.66  25.96  26.59  27.47  27.99  28.04  27.78  27.42  27.40  27.60  28.16  28.34',\n",
       " ' 2010  28.07  28.01  28.18  28.20  27.71  27.04  26.22  25.47  25.12  25.03  25.06  25.00',\n",
       " ' 2011  25.00  25.64  26.36  27.05  27.41  27.35  26.87  26.21  25.92  25.67  25.52  25.54',\n",
       " ' 2012  25.67  26.08  26.67  27.32  27.61  27.75  27.54  27.32  27.10  26.98  26.86  26.34',\n",
       " ' 2013  26.01  26.24  27.03  27.57  27.53  27.30  26.91  26.47  26.54  26.52  26.56  26.43',\n",
       " ' 2014  26.05  26.14  27.00  27.90  28.25  27.96  27.23  26.82  27.01  27.16  27.46  27.31',\n",
       " ' 2015  27.05  27.17  27.75  28.52  28.85  28.90  28.75  28.79  28.93  29.08  29.42  29.26',\n",
       " ' 2016  29.11  29.01  28.90  28.72  28.23  27.69  26.82  26.28  26.14  25.98  25.94  26.10',\n",
       " ' 2017  26.12  26.67  27.32  28.03  28.30  28.06  27.54  26.70  26.29  26.15  25.74  25.62',\n",
       " ' 2018  25.57  25.97  26.48  27.31  27.73  27.77  27.42  26.94  27.19  27.62  27.61  27.49',\n",
       " ' 2019  27.19  27.46  28.09  28.44  28.48  28.18  27.64  26.90  26.75  27.20  27.22  27.11',\n",
       " '   -99.99',\n",
       " '  Nino 3.4 Index  using ersstv5 from CPC',\n",
       " ' https://www.esrl.noaa.gov/psd/data/climateindices/list/for info',\n",
       " '']"
      ]
     },
     "execution_count": 8,
     "metadata": {},
     "output_type": "execute_result"
    }
   ],
   "source": [
    "option = \"remote\"\n",
    "\n",
    "if option == \"local\":\n",
    "    print(\"loading data locally (assumes file has already been downloaded)\")\n",
    "    f = open(\"elnino34_sst.data\", \"r\")\n",
    "elif option == \"remote\":\n",
    "    print(\"loading data remotely\")\n",
    "    path = \"https://raw.githubusercontent.com/julianmak/OCES3301_data_analysis/refs/heads/main/elnino34_sst.data\"\n",
    "    f = urllib.request.urlopen(path)\n",
    "else:\n",
    "    raise ValueError(\"INVALID OPTION: use 'remote' or 'local'\")\n",
    "\n",
    "elnino34_txt = f.readlines()\n",
    "for k in range(len(elnino34_txt)):\n",
    "    if type(elnino34_txt[k]) == str:\n",
    "        elnino34_txt[k] = elnino34_txt[k].strip(\"\\n\")\n",
    "    elif type(elnino34_txt[k]) == bytes:\n",
    "        elnino34_txt[k] = elnino34_txt[k].decode(\"utf-8\").strip(\"\\n\")\n",
    "elnino34_txt"
   ]
  },
  {
   "cell_type": "markdown",
   "metadata": {},
   "source": [
    "So while I read the file as a list, the entries we are primarily interested in are numbers, so we want a way to pull the numbers out. Also, note that:\n",
    "\n",
    "1) There are a few unnecessary line at the beginning (the **headers**) and at the end (the **footers**), that we should get rid of probably for the data analysis purposes.\n",
    "\n",
    "2) The year is on the left column, but we probably don't need that.\n",
    "\n",
    "3) It looks like there are 12 columns, which in this case really does correspond to entries to each of the months.\n",
    "\n",
    "> NOTE: I think (but I can't remember) this is actually raw monthly averaged SST values, rather than averaged over a window to give *low-passed* data; see *07_time_series* for what this means if you want.\n",
    "\n",
    "4) there are entries of `-99.99`, which in this case are **missing values** (no data), which you probably want to do something about\n",
    "\n",
    "> NOTE: Sometimes the missing values show up as something else, or marked on differently, so you do need to check for these. How you deal with those is a separate issue (e.g. if the missing value occurs in the middle of some time, do you approximate it as something, fill it with something else, ignore it? The choice can affect the resulting analysis and is really guided by what question you are trying to answer. More on this in `08_time_series`."
   ]
  },
  {
   "cell_type": "markdown",
   "metadata": {},
   "source": [
    "Here I am going to process this the old-fashioned way to illustrate the points. I am going to\n",
    "\n",
    "1) Strip out by hand the first 3 lines (header and the two lines with the missing values), and the last 4 lines (the footers).\n",
    "\n",
    "2) Read each line, split out the entires somehow, but skip the first one (so not bothering with the year), noting that we are going from 1950 to 2019, and dump out the numbers per read.\n",
    "\n",
    "3) Turn the eventual list into an array.\n",
    "\n",
    "The code below does this, but for demonstration purposes, you should run the individual component separately (in different cells for example) to convince yourself what each part of the code is doing."
   ]
  },
  {
   "cell_type": "code",
   "execution_count": 9,
   "metadata": {},
   "outputs": [
    {
     "name": "stdout",
     "output_type": "stream",
     "text": [
      "loading data remotely\n"
     ]
    },
    {
     "data": {
      "text/plain": [
       "['1950',\n",
       " '24.55',\n",
       " '25.06',\n",
       " '25.87',\n",
       " '26.28',\n",
       " '26.18',\n",
       " '26.46',\n",
       " '26.29',\n",
       " '25.88',\n",
       " '25.74',\n",
       " '25.69',\n",
       " '25.47',\n",
       " '25.29']"
      ]
     },
     "execution_count": 9,
     "metadata": {},
     "output_type": "execute_result"
    }
   ],
   "source": [
    "option = \"remote\"\n",
    "\n",
    "if option == \"local\":\n",
    "    print(\"loading data locally (assumes file has already been downloaded)\")\n",
    "    f = open(\"elnino34_sst.data\", \"r\")\n",
    "elif option == \"remote\":\n",
    "    print(\"loading data remotely\")\n",
    "    path = \"https://raw.githubusercontent.com/julianmak/OCES3301_data_analysis/refs/heads/main/elnino34_sst.data\"\n",
    "    f = urllib.request.urlopen(path)\n",
    "else:\n",
    "    raise ValueError(\"INVALID OPTION: use 'remote' or 'local'\")\n",
    "\n",
    "elnino34_txt = f.readlines()\n",
    "elnino34_txt = elnino34_txt[3:-4]\n",
    "for k in range(len(elnino34_txt)):\n",
    "    if type(elnino34_txt[k]) == str:\n",
    "        elnino34_txt[k] = elnino34_txt[k].strip(\"\\n\")\n",
    "    elif type(elnino34_txt[k]) == bytes:\n",
    "        elnino34_txt[k] = elnino34_txt[k].decode(\"utf-8\").strip(\"\\n\")\n",
    "\n",
    "elnino34_txt[0].split() # then we split each line (as a string) up into components"
   ]
  },
  {
   "cell_type": "code",
   "execution_count": 10,
   "metadata": {},
   "outputs": [
    {
     "name": "stdout",
     "output_type": "stream",
     "text": [
      "[24.55 25.06 25.87 26.28 26.18 26.46 26.29 25.88 25.74 25.69 25.47 25.29\n",
      " 25.24 25.71 26.9  27.58 27.92 27.73 27.6  27.02 27.23 27.2  27.25 26.91\n",
      " 26.67 26.74 27.17 27.8  27.79 27.18 26.53 26.3  26.36 26.26 25.92 26.21\n",
      " 26.74 27.   27.57 28.04 28.28 28.12 27.43 26.94 27.01 26.87 26.88 27.\n",
      " 26.98 27.03 26.9  26.64 27.12 26.8  26.11 25.43 25.12 25.23 25.57 25.26\n",
      " 25.61 25.81 26.22 26.6  26.66 26.55 26.15 25.51 25.28 24.41 24.25 24.57\n",
      " 25.34 25.76 26.46 26.85 27.13 26.81 26.23 25.68 25.73 25.75 25.56 25.71\n",
      " 26.04 26.54 27.46 28.23 28.55 28.36 28.17 27.69 27.44 27.42 27.62 27.9\n",
      " 28.33 28.24 28.27 28.27 28.31 27.99 27.32 26.85 26.4  26.45 26.75 26.62\n",
      " 27.07 27.18 27.47 27.88 27.7  27.37 26.44 26.09 25.92 26.24 26.04 26.18\n",
      " 26.27 26.29 26.98 27.49 27.68 27.24 26.88 26.7  26.44 26.22 26.26 26.22\n",
      " 26.23 26.56 26.94 27.36 27.75 27.67 26.89 26.19 25.78 25.71 26.07 25.97\n",
      " 25.96 26.19 26.8  27.13 27.05 27.08 26.76 26.33 25.94 25.97 25.75 25.67\n",
      " 25.77 26.22 27.18 27.78 27.63 27.62 27.78 27.48 27.4  27.36 27.47 27.62\n",
      " 27.34 27.13 27.02 26.95 26.82 26.59 26.33 25.6  25.32 25.37 25.26 25.23\n",
      " 25.66 26.19 26.94 27.38 27.99 28.09 27.9  27.97 28.01 28.17 28.12 27.96\n",
      " 27.67 27.55 28.21 28.16 27.55 27.64 27.33 26.48 26.27 26.22 26.23 26.03\n",
      " 25.88 26.11 26.5  26.74 27.35 27.47 26.97 26.44 25.86 25.97 26.08 25.95\n",
      " 25.69 25.68 26.33 27.1  27.19 27.88 27.58 27.01 26.72 26.75 27.2  27.27\n",
      " 27.5  27.86 27.82 28.13 28.29 27.69 27.08 27.02 27.15 27.34 27.1  26.98\n",
      " 26.83 26.95 27.14 27.74 27.63 27.04 26.21 25.6  25.65 25.6  25.57 25.27\n",
      " 24.81 25.18 25.92 26.63 26.95 26.6  26.13 25.75 25.72 25.47 25.56 25.37\n",
      " 25.62 26.3  27.09 27.89 28.32 28.18 28.14 27.95 27.95 28.26 28.61 28.69\n",
      " 28.34 27.95 27.55 27.24 26.96 26.55 25.76 25.22 25.06 24.73 24.33 24.33\n",
      " 24.46 25.1  25.84 26.46 26.64 26.53 26.39 26.33 26.08 25.78 25.61 25.63\n",
      " 26.09 26.07 26.19 26.86 26.8  26.23 25.9  25.33 25.05 24.89 25.05 24.67\n",
      " 24.54 25.49 26.46 26.88 27.2  27.35 27.13 26.98 27.02 27.46 27.41 27.09\n",
      " 27.32 27.13 27.47 27.44 27.72 27.74 27.38 26.85 27.12 27.35 27.19 27.29\n",
      " 27.17 27.   27.09 27.12 27.2  27.02 26.74 26.07 26.01 26.25 26.33 26.54\n",
      " 26.41 26.53 27.27 27.83 27.69 27.43 26.82 26.75 26.99 26.83 26.99 27.11\n",
      " 27.08 26.97 27.31 27.75 28.01 27.94 27.23 26.48 26.44 26.46 26.6  26.65\n",
      " 26.18 26.11 26.64 27.29 27.36 27.27 26.65 26.33 26.53 26.42 26.29 26.4\n",
      " 26.67 26.59 27.41 28.03 28.39 28.26 27.66 27.58 28.21 28.71 28.62 28.8\n",
      " 28.89 28.69 28.66 28.77 28.84 28.27 27.18 26.59 26.2  25.56 25.41 25.57\n",
      " 25.88 26.56 26.77 27.14 27.2  26.83 26.79 26.61 26.38 26.04 25.52 25.25\n",
      " 25.38 26.03 26.5  26.64 26.9  26.81 26.56 26.3  26.02 26.23 26.33 26.19\n",
      " 25.89 26.05 26.87 27.49 27.4  27.42 27.18 27.17 27.24 27.53 27.71 27.72\n",
      " 27.68 27.88 28.27 28.39 28.56 28.65 28.59 28.42 28.36 27.96 27.77 27.54\n",
      " 27.45 27.03 27.38 27.38 26.68 25.99 25.56 25.66 25.72 24.82 24.65 24.63\n",
      " 24.58 25.28 26.08 26.74 27.06 27.14 26.72 26.33 26.42 26.32 26.25 26.46\n",
      " 26.56 26.96 27.33 27.9  28.02 27.64 27.38 27.07 26.94 26.93 26.81 26.95\n",
      " 27.03 27.07 27.32 28.01 28.2  28.25 28.05 27.53 27.14 27.58 27.9  28.29\n",
      " 28.38 28.53 28.66 29.02 28.98 28.3  27.51 26.91 26.65 26.42 26.42 26.44\n",
      " 26.69 27.16 27.67 28.41 28.71 28.08 27.52 26.99 27.07 26.77 26.71 26.76\n",
      " 26.64 26.81 27.39 28.08 28.24 28.04 27.54 27.38 27.2  27.47 27.81 27.85\n",
      " 27.57 27.49 27.75 28.1  27.82 27.59 27.08 26.23 25.88 25.84 25.6  25.65\n",
      " 25.69 25.89 26.67 27.35 27.55 27.29 26.85 26.64 26.27 26.27 26.29 25.95\n",
      " 26.01 26.38 27.04 27.98 28.58 28.82 28.86 28.75 28.85 29.08 29.12 28.89\n",
      " 28.93 28.78 28.62 28.6  28.51 27.34 26.3  25.57 25.46 25.25 25.24 24.91\n",
      " 24.86 25.43 26.33 26.7  26.79 26.53 26.13 25.63 25.63 25.48 25.12 24.86\n",
      " 24.78 25.21 26.3  26.95 27.07 26.94 26.63 26.37 26.2  26.02 25.92 25.68\n",
      " 25.81 26.12 26.8  27.33 27.6  27.54 27.25 26.8  26.52 26.57 26.33 26.19\n",
      " 26.39 26.71 27.29 27.84 28.24 28.44 28.03 27.72 27.81 27.96 28.17 27.97\n",
      " 27.15 27.39 27.65 27.68 27.32 27.44 27.5  27.11 26.99 27.14 27.04 27.03\n",
      " 26.81 26.98 27.4  27.89 28.   27.86 27.78 27.62 27.53 27.44 27.36 27.34\n",
      " 27.21 27.11 27.73 28.08 28.24 27.77 27.06 26.8  26.68 26.65 26.11 25.68\n",
      " 25.63 26.08 26.57 27.5  27.85 27.73 27.3  27.16 27.32 27.41 27.69 27.74\n",
      " 27.24 26.88 27.1  27.5  27.46 27.37 26.71 26.14 25.61 25.32 25.17 25.01\n",
      " 24.86 25.08 26.07 26.83 27.09 27.04 26.99 26.72 26.47 26.37 26.25 25.74\n",
      " 25.66 25.96 26.59 27.47 27.99 28.04 27.78 27.42 27.4  27.6  28.16 28.34\n",
      " 28.07 28.01 28.18 28.2  27.71 27.04 26.22 25.47 25.12 25.03 25.06 25.\n",
      " 25.   25.64 26.36 27.05 27.41 27.35 26.87 26.21 25.92 25.67 25.52 25.54\n",
      " 25.67 26.08 26.67 27.32 27.61 27.75 27.54 27.32 27.1  26.98 26.86 26.34\n",
      " 26.01 26.24 27.03 27.57 27.53 27.3  26.91 26.47 26.54 26.52 26.56 26.43\n",
      " 26.05 26.14 27.   27.9  28.25 27.96 27.23 26.82 27.01 27.16 27.46 27.31\n",
      " 27.05 27.17 27.75 28.52 28.85 28.9  28.75 28.79 28.93 29.08 29.42 29.26\n",
      " 29.11 29.01 28.9  28.72 28.23 27.69 26.82 26.28 26.14 25.98 25.94 26.1\n",
      " 26.12 26.67 27.32 28.03 28.3  28.06 27.54 26.7  26.29 26.15 25.74 25.62\n",
      " 25.57 25.97 26.48 27.31 27.73 27.77 27.42 26.94 27.19 27.62 27.61 27.49\n",
      " 27.19 27.46 28.09 28.44 28.48 28.18 27.64 26.9  26.75 27.2  27.22 27.11]\n"
     ]
    }
   ],
   "source": [
    "# define an empty list, cycle through each line, split, and add in the entries\n",
    "elnino34_sst = []\n",
    "for k in range(len(elnino34_txt)):           # this is the new elnino34_txt after stripping out some lines\n",
    "    dummy = elnino34_txt[k].split()          # split out the entries per line\n",
    "    for i in range(1, len(dummy)):           # cycle through the dummy list but skip the first entry\n",
    "        elnino34_sst.append(float(dummy[i])) # turn string into a float, then add to list\n",
    "\n",
    "elnino34_sst = np.asarray(elnino34_sst)      # turn into array (not strictly necessary)\n",
    "print(elnino34_sst)"
   ]
  },
  {
   "cell_type": "markdown",
   "metadata": {},
   "source": [
    "> <span style=\"color:red\">**Q.**</span> What is the size of this array (look up how you might check), and is it exactly the same size as you expect it to be (what is the number of entries you should be getting)?"
   ]
  },
  {
   "cell_type": "markdown",
   "metadata": {},
   "source": [
    "Do a raw plot of this to see what the data looks like."
   ]
  },
  {
   "cell_type": "code",
   "execution_count": 11,
   "metadata": {},
   "outputs": [
    {
     "data": {
      "image/png": "[encoded data removed]",
      "text/plain": [
       "<Figure size 1000x300 with 1 Axes>"
      ]
     },
     "metadata": {},
     "output_type": "display_data"
    }
   ],
   "source": [
    "fig = plt.figure(figsize=(10, 3))\n",
    "ax = plt.axes()\n",
    "ax.plot(elnino34_sst)\n",
    "ax.set_xlabel(r\"index (not time)\")\n",
    "ax.set_ylabel(r\"SST (${}^\\circ\\ \\mathrm{C}$)\")\n",
    "ax.grid()"
   ]
  },
  {
   "cell_type": "markdown",
   "metadata": {},
   "source": [
    "Notice here I haven't bothered to process the time (so there is no \"time\" to plot against), but it can in principle be generated. I could also have plotted straight from a list, but for data manipulation having an array is easier.\n",
    "\n",
    "> <span style=\"color:red\">**Q.**</span> (NEEDS CARE) Create a time vector manually so you can plot the above graph against a proper time showing a year (trying using `np.linspace`; look up syntax via `np.linspace?` or Google, being careful about the END year.\n",
    "\n",
    "> <span style=\"color:red\">**Q.**</span> Modify the code above so `elnino34_sst` stays a list, and try taking away a fixed number from it (say do `elnino34_sst - 2`), what happens? Do you get the same results from `elnino34_sst` as an array? Why?"
   ]
  },
  {
   "cell_type": "markdown",
   "metadata": {},
   "source": [
    "## Introducing [pandas](https://pandas.pydata.org/)\n",
    "\n",
    "<img src=\"https://i.imgur.com/rKcpZzr.jpg\" width=\"400\" alt='cursed panda'>\n",
    "\n",
    "The Python Pandas package (not the cursed panda above; longer tutorial [here](https://www.w3schools.com/python/pandas/default.asp)) is a versatile package that is particularly good for packaging data and doing relevant analysis on.\n",
    "\n",
    "Whatever I am going to be doing over for the rest of this course can probably be done through Pandas in principle, but I am mostly not going to be doing things through Pandas, as I think it hides a bit of the detail I think is important to go through somewhat. But an ongoing exercise would be for you do whatever I am doing but in Pandas.\n",
    "\n",
    "Anyway, reading data can be done through the `read_csv` command that comes with pandas."
   ]
  },
  {
   "cell_type": "code",
   "execution_count": 12,
   "metadata": {},
   "outputs": [
    {
     "name": "stdout",
     "output_type": "stream",
     "text": [
      "loading data remotely\n",
      "                                     1948        2019\n",
      "0    1948 -99.99 -99.99 -99.99 -99.99 -99.99 -99.9...\n",
      "1    1949 -99.99 -99.99 -99.99 -99.99 -99.99 -99.9...\n",
      "2    1950  24.55  25.06  25.87  26.28  26.18  26.4...\n",
      "3    1951  25.24  25.71  26.90  27.58  27.92  27.7...\n",
      "4    1952  26.67  26.74  27.17  27.80  27.79  27.1...\n",
      "..                                                ...\n",
      "70   2018  25.57  25.97  26.48  27.31  27.73  27.7...\n",
      "71   2019  27.19  27.46  28.09  28.44  28.48  28.1...\n",
      "72                                             -99.99\n",
      "73             Nino 3.4 Index  using ersstv5 from CPC\n",
      "74   https://www.esrl.noaa.gov/psd/data/climateind...\n",
      "\n",
      "[75 rows x 1 columns]\n"
     ]
    }
   ],
   "source": [
    "import pandas as pd\n",
    "\n",
    "option = \"remote\"\n",
    "\n",
    "if option == \"local\":\n",
    "    print(\"loading data locally (assumes file has already been downloaded)\")\n",
    "    path = \"elnino34_sst.data\"\n",
    "elif option == \"remote\":\n",
    "    print(\"loading data remotely\")\n",
    "    path = \"https://raw.githubusercontent.com/julianmak/OCES3301_data_analysis/refs/heads/main/elnino34_sst.data\"\n",
    "else:\n",
    "    raise ValueError(\"INVALID OPTION: use 'remote' or 'local'\")\n",
    "\n",
    "data = pd.read_csv(path)\n",
    "print(data)"
   ]
  },
  {
   "cell_type": "markdown",
   "metadata": {},
   "source": [
    "So generally pandas ***tries*** to read things assuming sensible layout etc., but that can fail if the data is not cleaned up (and uncleaned data is the default rather than the norm). So, it is generally advised to have a look at the raw data file first to see what it consists, anticipate what things you might need to do, and  know back up options (hence somewhat of a reason for the above manipulations in the old-fashioned way).\n",
    "\n",
    "> NOTE: Again, it is probably good to accept that data you will get your hands on is almost never cleaned up, learn what kind of problems can get thrown up and learn how to deal with it, instead of always getting clean data and not knowing what to do when data you get is no longer clean.\n",
    "\n",
    "In this case, optional arguments needs to be provided (e.g. delimiter, separator, etc...). I've done the whole thing below.\n",
    "\n",
    "> <span style=\"color:red\">**Q.**</span> Experiment on what happens if you mess around with the options below and what outputs you get (giving you some experience as to what the \"wrong\" things look like)"
   ]
  },
  {
   "cell_type": "code",
   "execution_count": 13,
   "metadata": {},
   "outputs": [
    {
     "data": {
      "text/html": [
       "<div>\n",
       "<style scoped>\n",
       "    .dataframe tbody tr th:only-of-type {\n",
       "        vertical-align: middle;\n",
       "    }\n",
       "\n",
       "    .dataframe tbody tr th {\n",
       "        vertical-align: top;\n",
       "    }\n",
       "\n",
       "    .dataframe thead th {\n",
       "        text-align: right;\n",
       "    }\n",
       "</style>\n",
       "<table border=\"1\" class=\"dataframe\">\n",
       "  <thead>\n",
       "    <tr style=\"text-align: right;\">\n",
       "      <th></th>\n",
       "      <th>Jan</th>\n",
       "      <th>Feb</th>\n",
       "      <th>Mar</th>\n",
       "      <th>Apr</th>\n",
       "      <th>May</th>\n",
       "      <th>Jun</th>\n",
       "      <th>Jul</th>\n",
       "      <th>Aug</th>\n",
       "      <th>Sep</th>\n",
       "      <th>Oct</th>\n",
       "      <th>Nov</th>\n",
       "      <th>Dec</th>\n",
       "    </tr>\n",
       "    <tr>\n",
       "      <th>year</th>\n",
       "      <th></th>\n",
       "      <th></th>\n",
       "      <th></th>\n",
       "      <th></th>\n",
       "      <th></th>\n",
       "      <th></th>\n",
       "      <th></th>\n",
       "      <th></th>\n",
       "      <th></th>\n",
       "      <th></th>\n",
       "      <th></th>\n",
       "      <th></th>\n",
       "    </tr>\n",
       "  </thead>\n",
       "  <tbody>\n",
       "    <tr>\n",
       "      <th>1948</th>\n",
       "      <td>NaN</td>\n",
       "      <td>NaN</td>\n",
       "      <td>NaN</td>\n",
       "      <td>NaN</td>\n",
       "      <td>NaN</td>\n",
       "      <td>NaN</td>\n",
       "      <td>NaN</td>\n",
       "      <td>NaN</td>\n",
       "      <td>NaN</td>\n",
       "      <td>NaN</td>\n",
       "      <td>NaN</td>\n",
       "      <td>NaN</td>\n",
       "    </tr>\n",
       "    <tr>\n",
       "      <th>1949</th>\n",
       "      <td>NaN</td>\n",
       "      <td>NaN</td>\n",
       "      <td>NaN</td>\n",
       "      <td>NaN</td>\n",
       "      <td>NaN</td>\n",
       "      <td>NaN</td>\n",
       "      <td>NaN</td>\n",
       "      <td>NaN</td>\n",
       "      <td>NaN</td>\n",
       "      <td>NaN</td>\n",
       "      <td>NaN</td>\n",
       "      <td>NaN</td>\n",
       "    </tr>\n",
       "    <tr>\n",
       "      <th>1950</th>\n",
       "      <td>24.55</td>\n",
       "      <td>25.06</td>\n",
       "      <td>25.87</td>\n",
       "      <td>26.28</td>\n",
       "      <td>26.18</td>\n",
       "      <td>26.46</td>\n",
       "      <td>26.29</td>\n",
       "      <td>25.88</td>\n",
       "      <td>25.74</td>\n",
       "      <td>25.69</td>\n",
       "      <td>25.47</td>\n",
       "      <td>25.29</td>\n",
       "    </tr>\n",
       "    <tr>\n",
       "      <th>1951</th>\n",
       "      <td>25.24</td>\n",
       "      <td>25.71</td>\n",
       "      <td>26.90</td>\n",
       "      <td>27.58</td>\n",
       "      <td>27.92</td>\n",
       "      <td>27.73</td>\n",
       "      <td>27.60</td>\n",
       "      <td>27.02</td>\n",
       "      <td>27.23</td>\n",
       "      <td>27.20</td>\n",
       "      <td>27.25</td>\n",
       "      <td>26.91</td>\n",
       "    </tr>\n",
       "    <tr>\n",
       "      <th>1952</th>\n",
       "      <td>26.67</td>\n",
       "      <td>26.74</td>\n",
       "      <td>27.17</td>\n",
       "      <td>27.80</td>\n",
       "      <td>27.79</td>\n",
       "      <td>27.18</td>\n",
       "      <td>26.53</td>\n",
       "      <td>26.30</td>\n",
       "      <td>26.36</td>\n",
       "      <td>26.26</td>\n",
       "      <td>25.92</td>\n",
       "      <td>26.21</td>\n",
       "    </tr>\n",
       "    <tr>\n",
       "      <th>...</th>\n",
       "      <td>...</td>\n",
       "      <td>...</td>\n",
       "      <td>...</td>\n",
       "      <td>...</td>\n",
       "      <td>...</td>\n",
       "      <td>...</td>\n",
       "      <td>...</td>\n",
       "      <td>...</td>\n",
       "      <td>...</td>\n",
       "      <td>...</td>\n",
       "      <td>...</td>\n",
       "      <td>...</td>\n",
       "    </tr>\n",
       "    <tr>\n",
       "      <th>2015</th>\n",
       "      <td>27.05</td>\n",
       "      <td>27.17</td>\n",
       "      <td>27.75</td>\n",
       "      <td>28.52</td>\n",
       "      <td>28.85</td>\n",
       "      <td>28.90</td>\n",
       "      <td>28.75</td>\n",
       "      <td>28.79</td>\n",
       "      <td>28.93</td>\n",
       "      <td>29.08</td>\n",
       "      <td>29.42</td>\n",
       "      <td>29.26</td>\n",
       "    </tr>\n",
       "    <tr>\n",
       "      <th>2016</th>\n",
       "      <td>29.11</td>\n",
       "      <td>29.01</td>\n",
       "      <td>28.90</td>\n",
       "      <td>28.72</td>\n",
       "      <td>28.23</td>\n",
       "      <td>27.69</td>\n",
       "      <td>26.82</td>\n",
       "      <td>26.28</td>\n",
       "      <td>26.14</td>\n",
       "      <td>25.98</td>\n",
       "      <td>25.94</td>\n",
       "      <td>26.10</td>\n",
       "    </tr>\n",
       "    <tr>\n",
       "      <th>2017</th>\n",
       "      <td>26.12</td>\n",
       "      <td>26.67</td>\n",
       "      <td>27.32</td>\n",
       "      <td>28.03</td>\n",
       "      <td>28.30</td>\n",
       "      <td>28.06</td>\n",
       "      <td>27.54</td>\n",
       "      <td>26.70</td>\n",
       "      <td>26.29</td>\n",
       "      <td>26.15</td>\n",
       "      <td>25.74</td>\n",
       "      <td>25.62</td>\n",
       "    </tr>\n",
       "    <tr>\n",
       "      <th>2018</th>\n",
       "      <td>25.57</td>\n",
       "      <td>25.97</td>\n",
       "      <td>26.48</td>\n",
       "      <td>27.31</td>\n",
       "      <td>27.73</td>\n",
       "      <td>27.77</td>\n",
       "      <td>27.42</td>\n",
       "      <td>26.94</td>\n",
       "      <td>27.19</td>\n",
       "      <td>27.62</td>\n",
       "      <td>27.61</td>\n",
       "      <td>27.49</td>\n",
       "    </tr>\n",
       "    <tr>\n",
       "      <th>2019</th>\n",
       "      <td>27.19</td>\n",
       "      <td>27.46</td>\n",
       "      <td>28.09</td>\n",
       "      <td>28.44</td>\n",
       "      <td>28.48</td>\n",
       "      <td>28.18</td>\n",
       "      <td>27.64</td>\n",
       "      <td>26.90</td>\n",
       "      <td>26.75</td>\n",
       "      <td>27.20</td>\n",
       "      <td>27.22</td>\n",
       "      <td>27.11</td>\n",
       "    </tr>\n",
       "  </tbody>\n",
       "</table>\n",
       "<p>72 rows × 12 columns</p>\n",
       "</div>"
      ],
      "text/plain": [
       "        Jan    Feb    Mar    Apr    May    Jun    Jul    Aug    Sep    Oct  \\\n",
       "year                                                                         \n",
       "1948    NaN    NaN    NaN    NaN    NaN    NaN    NaN    NaN    NaN    NaN   \n",
       "1949    NaN    NaN    NaN    NaN    NaN    NaN    NaN    NaN    NaN    NaN   \n",
       "1950  24.55  25.06  25.87  26.28  26.18  26.46  26.29  25.88  25.74  25.69   \n",
       "1951  25.24  25.71  26.90  27.58  27.92  27.73  27.60  27.02  27.23  27.20   \n",
       "1952  26.67  26.74  27.17  27.80  27.79  27.18  26.53  26.30  26.36  26.26   \n",
       "...     ...    ...    ...    ...    ...    ...    ...    ...    ...    ...   \n",
       "2015  27.05  27.17  27.75  28.52  28.85  28.90  28.75  28.79  28.93  29.08   \n",
       "2016  29.11  29.01  28.90  28.72  28.23  27.69  26.82  26.28  26.14  25.98   \n",
       "2017  26.12  26.67  27.32  28.03  28.30  28.06  27.54  26.70  26.29  26.15   \n",
       "2018  25.57  25.97  26.48  27.31  27.73  27.77  27.42  26.94  27.19  27.62   \n",
       "2019  27.19  27.46  28.09  28.44  28.48  28.18  27.64  26.90  26.75  27.20   \n",
       "\n",
       "        Nov    Dec  \n",
       "year                \n",
       "1948    NaN    NaN  \n",
       "1949    NaN    NaN  \n",
       "1950  25.47  25.29  \n",
       "1951  27.25  26.91  \n",
       "1952  25.92  26.21  \n",
       "...     ...    ...  \n",
       "2015  29.42  29.26  \n",
       "2016  25.94  26.10  \n",
       "2017  25.74  25.62  \n",
       "2018  27.61  27.49  \n",
       "2019  27.22  27.11  \n",
       "\n",
       "[72 rows x 12 columns]"
      ]
     },
     "execution_count": 13,
     "metadata": {},
     "output_type": "execute_result"
    }
   ],
   "source": [
    "# can give it a few more details to make it easier for pandas to help us\n",
    "data = pd.read_csv(path,\n",
    "            delim_whitespace=True,\n",
    "            names=[\"year\", \"Jan\", \"Feb\", \"Mar\", \"Apr\", \"May\", \"Jun\", \"Jul\", \"Aug\", \"Sep\", \"Oct\", \"Nov\", \"Dec\"],\n",
    "            skipfooter=4,  # chop out some lines\n",
    "            skiprows=1,    # chop out some unnecessary lines\n",
    "            false_values=-99.99,\n",
    "            engine=\"python\")\n",
    "data = data.replace(-99.99, np.nan) # replace missing values with NaNs (not a number)\n",
    "data = data.set_index(\"year\")       # sets the index to be the year column\n",
    "data"
   ]
  },
  {
   "cell_type": "markdown",
   "metadata": {},
   "source": [
    "You can think of the Pandas data frame like a dictionary, so you could for example do the following."
   ]
  },
  {
   "cell_type": "code",
   "execution_count": 14,
   "metadata": {},
   "outputs": [
    {
     "data": {
      "image/png": "[encoded data removed]",
      "text/plain": [
       "<Figure size 1000x300 with 1 Axes>"
      ]
     },
     "metadata": {},
     "output_type": "display_data"
    }
   ],
   "source": [
    "fig = plt.figure(figsize=(10, 3))\n",
    "\n",
    "# forces pandas to plot on the given ax object, otherwise it generates a new one\n",
    "ax = plt.axes()\n",
    "data[\"Jan\"].plot(ax=ax) \n",
    "\n",
    "# because year is set as index, so data is being plotted against index\n",
    "#  can modify this accordingly\n",
    "ax.set_xlabel(r\"year\")\n",
    "ax.set_ylabel(r\"SST (${}^\\circ\\ \\mathrm{C}$)\")\n",
    "ax.grid()"
   ]
  },
  {
   "cell_type": "markdown",
   "metadata": {},
   "source": [
    "Note you do have a time-axis here, because the `year` column was not discarded in this case, but it is of course less obvious how you plot the whole time-series out.\n",
    "\n",
    "> <span style=\"color:red\">**Q.**</span> What is the above actually doing?\n",
    "\n",
    "> <span style=\"color:red\">**Q.**</span> With a for loop or otherwise, plot the data for all 12 months of data at the same time.\n",
    "\n",
    "The code below is basically the same as above, but here I pull out the data in the Pandas data frame using the `.values` command (so now I am dealing with an array)."
   ]
  },
  {
   "cell_type": "code",
   "execution_count": 15,
   "metadata": {},
   "outputs": [
    {
     "data": {
      "image/png": "[encoded data removed]",
      "text/plain": [
       "<Figure size 1000x300 with 1 Axes>"
      ]
     },
     "metadata": {},
     "output_type": "display_data"
    }
   ],
   "source": [
    "# the code is does basically the same as above\n",
    "\n",
    "year = data.index.values\n",
    "sst  = data[\"Jan\"].values\n",
    "\n",
    "fig = plt.figure(figsize=(10, 3))\n",
    "ax = plt.axes()\n",
    "ax.plot(year, sst)\n",
    "ax.set_xlabel(r\"year\")\n",
    "ax.set_ylabel(r\"SST (${}^\\circ\\ \\mathrm{C}$)\")\n",
    "ax.grid()"
   ]
  },
  {
   "cell_type": "markdown",
   "metadata": {},
   "source": [
    "> <span style=\"color:red\">**Q.**</span> (harder) Try and see if you can bully Pandas into plotting out the whole data array as a complete time-series"
   ]
  },
  {
   "cell_type": "markdown",
   "metadata": {},
   "source": [
    "--------------------\n",
    "\n",
    "# c) Basic statistics (and some more Pandas)\n",
    "\n",
    "Having a whole load of data is all well and good but we want some way to quantify these, so the rest of the course deals with that. The main kind of data we are going to be deal with are going to be **numbers**, and essentially we are going to be doing calculations for things.\n",
    "\n",
    "For ease of talking, I am going to introduce some terminology and notation that I am not going to be very rigourous in defining. A **random variable** $X$ (capital letters) following some **probability distribution** can be sampled, and I am going to denote the **samples** of the random variable as $x_i$ (small letters, with index $i$ denoting the $i^{\\rm{th}}$ sample).\n",
    "\n",
    "> NOTE: $X$ really is a map from the sample space $\\Omega$ (space of all possible outcomes) to some measurable space $E$, but we don't really need this here...\n",
    "\n",
    "For most intents and purposes, we are going to be dealing with $x_i$, the data, and occasionally the probability distribution function or the random variable, but otherwise you can largely forget about the rest of the stuff I just said."
   ]
  },
  {
   "cell_type": "markdown",
   "metadata": {},
   "source": [
    "## Average\n",
    "\n",
    "So there are really three kinds of *averages*, but usually when we talk about THE average, we really mean the **mean**. We are going to skip that for the moment and talk about the other two first. \n",
    "\n",
    "1) **Mode**, the sample value that occurs the most.\n",
    "\n",
    "2) **Median**, order the samples, and pick the middle one.\n",
    "\n",
    "We will usually not use the mode, but the median will show up when we do the box-and-whisker plots (as the middle line, or the **50th quartile**).\n",
    "\n",
    "`Numpy` has a built in function for this."
   ]
  },
  {
   "cell_type": "code",
   "execution_count": 16,
   "metadata": {},
   "outputs": [
    {
     "name": "stdout",
     "output_type": "stream",
     "text": [
      "median of ages = 5.0\n"
     ]
    }
   ],
   "source": [
    "ages = np.asarray([0, 1, 2, 3, 4, 5, 6, 7, 8, 9, 10])\n",
    "\n",
    "print(f\"median of ages = {np.median(ages)}\")"
   ]
  },
  {
   "cell_type": "markdown",
   "metadata": {},
   "source": [
    "## Range and quartiles\n",
    "\n",
    "The **range** of the sample is simply the distance between the smallest and largest value, and is a rather crude measure of spread.\n",
    "\n",
    "The **upper/lower quartiles** or the **75/25 quartile** is also a measure of spread, but for data in the center. The upper quartile is the location above which 25% of the ranked data lies (or location of where 75% of the data lies below), and the lower quarter is analogously defined.\n",
    "\n",
    "These can be respectively done by a simple `max - min`, and for example the `np.percentile` command."
   ]
  },
  {
   "cell_type": "code",
   "execution_count": 17,
   "metadata": {},
   "outputs": [
    {
     "name": "stdout",
     "output_type": "stream",
     "text": [
      "range of ages = 10 - 0 = 10\n",
      "lower quartile = 2.5\n",
      "mid   quartile = 5.0\n",
      "upper quartile = 7.5\n",
      "\n",
      "quartile of ages in one go = [2.5 5.  7.5]\n"
     ]
    }
   ],
   "source": [
    "print(f\"range of ages = {np.max(ages)} - {np.min(ages)} = {np.max(ages) - np.min(ages)}\")\n",
    "print(f\"lower quartile = {np.percentile(ages, 25)}\")\n",
    "print(f\"mid   quartile = {np.percentile(ages, 50)}\")\n",
    "print(f\"upper quartile = {np.percentile(ages, 75)}\")\n",
    "print(\"\")\n",
    "print(f\"quartile of ages in one go = {np.percentile(ages, [25, 50, 75])}\")"
   ]
  },
  {
   "cell_type": "markdown",
   "metadata": {},
   "source": [
    "The range and quartiles can be shown in a diagram through a **box-and-whisker diagram** (or a **box plot**). The code below does a box plot, and the features are:\n",
    "\n",
    "* The line in the box, which is the median.\n",
    "* The edges of the box, which are the upper and lower quartiles, and the ranges is called the **inter-quartile range**.\n",
    "* The whiskers, use to denote data outside of the inter-quartile range.\n",
    "* The edges of the whiskers, which denote the range.\n",
    "\n",
    "Sometimes when you use the built in boxplot commands extra circles appear. These usually denote the **outliers**, that are sufficiently far away from the median (usually measured by some factor of the inter-quartile range). You'll see this a bit more later when we look at the Iris data."
   ]
  },
  {
   "cell_type": "code",
   "execution_count": 18,
   "metadata": {},
   "outputs": [
    {
     "data": {
      "image/png": "[encoded data removed]",
      "text/plain": [
       "<Figure size 500x300 with 1 Axes>"
      ]
     },
     "metadata": {},
     "output_type": "display_data"
    }
   ],
   "source": [
    "# more plotting: box-and-whisker\n",
    "\n",
    "fig = plt.figure(figsize=(5, 3))\n",
    "ax = plt.axes()\n",
    "ax.boxplot(ages, vert=False)\n",
    "ax.grid()\n",
    "ax.set_xlabel(r\"ages\")\n",
    "ax.text(2.5, 0.8, \"LQ\", horizontalalignment='center')\n",
    "ax.text(5, 0.8, \"median\", horizontalalignment='center', color=\"C1\")\n",
    "ax.text(7.5, 0.8, \"UQ\", horizontalalignment='center')\n",
    "ax.text(0, 0.8, \"LR\", horizontalalignment='center')\n",
    "ax.text(10, 0.8, \"UR\", horizontalalignment='center')\n",
    "\n",
    "ax.annotate(\"\", xy=(7.5, 1.2), xytext=(2.5, 1.2), arrowprops=dict(arrowstyle=\"<->\", color=\"C2\"))\n",
    "ax.text(5, 1.25, \"IQR\", horizontalalignment='center', color=\"C2\")\n",
    "\n",
    "plt.savefig(\"../lec02/boxplot.png\", dpi=75, bbox_inches=\"tight\")"
   ]
  },
  {
   "cell_type": "markdown",
   "metadata": {},
   "source": [
    "## Mean and variance / standard deviation\n",
    "\n",
    "For $N$ samples with outcomes $x_i$, the **mean** of a sample $\\overline{x}$ is defined as\n",
    "\n",
    "\\begin{equation*}\n",
    "    \\overline{x} = \\frac{x_1 + x_2 + \\ldots + x_N}{N} = \\frac{1}{N}\\sum_{i=1}^N x_i,\n",
    "\\end{equation*}\n",
    "\n",
    "i.e. sum up all numbers (unweighted) and divide by the total number of samples.\n",
    "\n",
    "> NOTE: I am going to be making a distinction in *05/06_statistical_tests* between the **sample mean** $\\overline{x}$ and the **population mean** $\\mu$ (the Greek character \"mu\", i.e. like the sound a cat makes).\n",
    "\n",
    "So you need a way to count the number of samples, and to sum things. The code below shows how you might do this in a brute force way, a slightly more elegant way, and the easy way."
   ]
  },
  {
   "cell_type": "code",
   "execution_count": 19,
   "metadata": {},
   "outputs": [
    {
     "name": "stdout",
     "output_type": "stream",
     "text": [
      "mean from the slow way = 5.0\n",
      "mean from sum / count  = 5.0\n",
      "mean from using np.mean= 5.0\n"
     ]
    }
   ],
   "source": [
    "# the really old fashioned way (partly to demonstrate some more syntax)\n",
    "# compute the sum and count the number of numbers, then compute the mean\n",
    "ages_avg, count = 0.0, 0\n",
    "for i in range(len(ages)):\n",
    "    count    += 1   # \"count += 1\" is equivalent to \"count = count + 1\"\n",
    "    ages_avg += ages[i]\n",
    "\n",
    "print(f\"mean from the slow way = {ages_avg / count}\")\n",
    "\n",
    "# the cleaner way\n",
    "ages_sum = np.sum(ages)\n",
    "count = len(ages)\n",
    "print(f\"mean from sum / count  = {ages_sum / count}\")\n",
    "\n",
    "# the inbuilt way\n",
    "print(f\"mean from using np.mean= {np.mean(ages)}\")"
   ]
  },
  {
   "cell_type": "markdown",
   "metadata": {},
   "source": [
    "Most of the time, I am going use the unadjusted version of the **variance** $s^2$:\n",
    "\n",
    "\\begin{equation*}\n",
    "    s^2 = \\frac{(x_1 - \\overline{x})^2 + (x_2 - \\overline{x})^2 + \\ldots + (x_N - \\overline{x})^2}{N} = \\frac{1}{N}\\sum_{i=1}^{N} (x_i - \\overline{x})^2,\n",
    "\\end{equation*}\n",
    "\n",
    "i.e. take the sample mean from each sample away, square it, sum it, then divide by the number of samples. \n",
    "\n",
    "Two observations to makes here is that:\n",
    "\n",
    "1) The variance is positive definite, and is only zero if every sample is the same as the sample mean.\n",
    "\n",
    "2) If the sample size $N$ is large and only one sample is far from the mean, then that sample's contribution to the variance is rather minimal (because of the division by $N$).\n",
    "\n",
    "From this, convince yourself that the variance is a measure of spread, and deviation away from the mean. The (unadjusted) **standard deviation**, which I will be short handing as s.t.d., partly for the puns I can make, is just the square root of the variance.\n",
    "\n",
    "> NOTE: I am also going to make a distinction in *05/06_statistical_tests* between the **sample s.t.d.** $s$, and the **population s.t.d.** (heh) $\\sigma$\n",
    "\n",
    "The code below does the same as the calculations for the variance and the s.t.d., with one verbose way, one easier way, and one using the inbuilt command in `numpy` (`np.std`)."
   ]
  },
  {
   "cell_type": "code",
   "execution_count": 20,
   "metadata": {},
   "outputs": [
    {
     "name": "stdout",
     "output_type": "stream",
     "text": [
      "stats from verbose code: mean = 5.0, variance = 10.0, s.t.d. = 3.162\n",
      "stats from cleaner code: mean = 5.0, variance = 10.0, s.t.d. = 3.162\n",
      "stats from command     : mean = 5.0, variance = 10.0, s.t.d. = 3.162\n"
     ]
    }
   ],
   "source": [
    "# demonstrate with only mean and variance for now\n",
    "\n",
    "ages = np.asarray([0, 1, 2, 3, 4, 5, 6, 7, 8, 9, 10])\n",
    "ages_avg = np.mean(ages)\n",
    "\n",
    "# take the mean off every number in the array, and then compute things needed for standard deviation\n",
    "# I am going to compute the variance then work out the s.d.\n",
    "ages_var, count = 0.0, 0  # reset the counter\n",
    "for i in range(len(ages)):\n",
    "    count    += 1\n",
    "    ages_var +=(ages[i] - ages_avg)**2\n",
    "\n",
    "ages_var /= count\n",
    "\n",
    "print(f\"stats from verbose code: mean = {ages_avg}, variance = {ages_var}, s.t.d. = {np.sqrt(ages_var):.3f}\")\n",
    "\n",
    "# slightly less verbose way of doing above\n",
    "ages_var = np.sum((ages - ages_avg)**2) / len(ages)\n",
    "print(f\"stats from cleaner code: mean = {ages_avg}, variance = {ages_var}, s.t.d. = {np.sqrt(ages_var):.3f}\")\n",
    "\n",
    "# using the inbuilt s.t.d.\n",
    "print(f\"stats from command     : mean = {np.mean(ages)}, variance = {np.var(ages)}, s.t.d. = {np.std(ages):.3f}\")"
   ]
  },
  {
   "cell_type": "markdown",
   "metadata": {},
   "source": [
    "### !!! USER BEWARE !!!\n",
    "\n",
    "So here is an example why sometimes one should know the old-fashioned way of doing things, and be very careful when using inbuilt commands. Suppose I use instead another command for standard deviation from a different package (in this case the `statistics` package), and do the same thing above, I would get the following."
   ]
  },
  {
   "cell_type": "code",
   "execution_count": 21,
   "metadata": {},
   "outputs": [
    {
     "name": "stdout",
     "output_type": "stream",
     "text": [
      "stats from another package: \n",
      "\n",
      "mean = 5, variance = 11, s.d. = 3.317\n"
     ]
    }
   ],
   "source": [
    "import statistics as stat\n",
    "\n",
    "print(f\"\"\"stats from another package: \n",
    "\n",
    "mean = {stat.mean(ages)}, variance = {stat.variance(ages)}, s.d. = {stat.stdev(ages):.3f}\"\"\")"
   ]
  },
  {
   "cell_type": "markdown",
   "metadata": {},
   "source": [
    "The mean is the same but the variance and the s.t.d's (heh) are different, whats the deal?\n",
    "\n",
    "I was quite explicit in saying I was using the unadjusted variance / s.t.d., and there is an adjusted version with what's called the **Bessel correction**,\n",
    "\n",
    "\\begin{equation*}\n",
    "    s^2 = \\frac{(x_1 - \\overline{x})^2 + (x_2 - \\overline{x})^2 + \\ldots + (x_N - \\overline{x})^2}{N - 1} = \\frac{1}{N - 1}\\sum_{i=1}^{N} (x_i - \\overline{x})^2.\n",
    "\\end{equation*}\n",
    "\n",
    "The variance and s.t.d. calculations in `numpy` uses the unadjusted definition, while the `statistics` packages uses the adjusted version. If you blindly use packages you would probably get different answers (like some of the students did in ENVS 3004 at some point, when they tried to make it easier for themselves and not do it by hand, and thus got it wrong because I explicitly asked them to use the definition I provided).\n",
    "\n",
    "***Which should you use?*** I will be explicit in assignments. Personally I almost never deal with small samples or with statistical tests, so I tend to go with the unadjusted one (for large $N$, $N \\approx N - 1$ so it makes very little practical difference). If you deal with small samples you probably should use the adjusted version. You can still use `numpy`, but override the default in this case with the keyword `ddof` (look this up in the manual if you want)."
   ]
  },
  {
   "cell_type": "code",
   "execution_count": 22,
   "metadata": {},
   "outputs": [
    {
     "name": "stdout",
     "output_type": "stream",
     "text": [
      "stats from numpy with override (ddof=0 by default): \n",
      "\n",
      "mean = 5.0, variance = 11.0, s.d. = 3.317\n"
     ]
    }
   ],
   "source": [
    "print(f\"\"\"stats from numpy with override (ddof=0 by default): \n",
    "\n",
    "mean = {np.mean(ages)}, variance = {np.var(ages, ddof=1)}, s.d. = {np.std(ages, ddof=1):.3f}\"\"\")"
   ]
  },
  {
   "cell_type": "markdown",
   "metadata": {},
   "source": [
    "----------------\n",
    "\n",
    "# More involved exercises with this notebook\n",
    "\n",
    "## 1) Penguin data, stats and pandas\n",
    "\n",
    "The [Palmer Penguins](https://cran.r-project.org/web/packages/palmerpenguins/readme/README.html) data compiled as a replacement to the standard [iris data](https://en.wikipedia.org/wiki/Iris_flower_data_set) because of racism/eugenics reasons of Ronald Fisher (look it up if you are interested). A mildly touched up version is given here as `penguins.csv` (or https://raw.githubusercontent.com/julianmak/OCES3301_data_analysis/refs/heads/main/penguins.csv; I removed some columns and some `NaN`s). We are going to be using that dataset quite a bit up to *06_statistical_tests* to demonstrate code syntax.\n",
    "\n",
    "<img src=\"https://www.boredpanda.com/blog/wp-content/uploads/2020/08/cats-standing-like-penguins-fb-png__700.jpg\" width=\"500\" alt='cursed penguins'>\n",
    "\n",
    "> <span style=\"color:red\">**Q.**</span> Either download or open `penguins.csv` from the repository outside of python and see what it contains. The descriptors should be fairly self-explanatory actually.\n",
    "\n",
    "> <span style=\"color:red\">**Q.**</span> Open the data in python. I would suggest using `pandas` (copy some of the code from above).\n",
    "\n",
    "> <span style=\"color:red\">**Q.**</span> Reproduce some of the statistics given by the `df.describe()` by hand, you might want some to use some of the codes below.\n",
    "\n",
    "> <span style=\"color:red\">**Q.**</span> Do some standard plots or box plots of various attributes, remember to label your graphs.\n",
    "\n",
    "> <span style=\"color:red\">**Q.**</span> Try and do a boxplot of say one attribute of the three different species of penguins together (Google will probably give you the syntax).\n",
    "\n",
    "> <span style=\"color:red\">**Q.**</span> How would do you a scatter plot with `plt`? could you use `plt.plot` directly?\n",
    "\n",
    "> <span style=\"color:red\">**Q.**</span> (more involved) Provide some qualitative descriptions of the different attributes and its dependence on species. Note some of these down, as we will be quantifying these in the next four sessions."
   ]
  },
  {
   "cell_type": "code",
   "execution_count": null,
   "metadata": {},
   "outputs": [],
   "source": []
  }
 ],
 "metadata": {
  "kernelspec": {
   "display_name": "Python 3 (ipykernel)",
   "language": "python",
   "name": "python3"
  },
  "language_info": {
   "codemirror_mode": {
    "name": "ipython",
    "version": 3
   },
   "file_extension": ".py",
   "mimetype": "text/x-python",
   "name": "python",
   "nbconvert_exporter": "python",
   "pygments_lexer": "ipython3",
   "version": "3.9.16"
  },
  "latex_envs": {
   "LaTeX_envs_menu_present": true,
   "autoclose": false,
   "autocomplete": true,
   "bibliofile": "biblio.bib",
   "cite_by": "apalike",
   "current_citInitial": 1,
   "eqLabelWithNumbers": true,
   "eqNumInitial": 1,
   "hotkeys": {
    "equation": "Ctrl-E",
    "itemize": "Ctrl-I"
   },
   "labels_anchors": false,
   "latex_user_defs": false,
   "report_style_numbering": false,
   "user_envs_cfg": false
  }
 },
 "nbformat": 4,
 "nbformat_minor": 4
}
